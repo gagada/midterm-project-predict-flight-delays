{
 "cells": [
  {
   "cell_type": "markdown",
   "metadata": {},
   "source": [
    "# Machine Learning\n",
    "\n",
    "In this file, instructions how to approach the challenge can be found."
   ]
  },
  {
   "cell_type": "markdown",
   "metadata": {},
   "source": [
    "We are going to work on different types of Machine Learning problems:\n",
    "\n",
    "- **Regression Problem**: The goal is to predict delay of flights.\n",
    "- **(Stretch) Multiclass Classification**: If the plane was delayed, we will predict what type of delay it is (will be).\n",
    "- **(Stretch) Binary Classification**: The goal is to predict if the flight will be cancelled."
   ]
  },
  {
   "cell_type": "code",
   "execution_count": 1,
   "metadata": {},
   "outputs": [],
   "source": [
    "#Import relevant libraries \n",
    "import numpy as np\n",
    "import pandas as pd\n",
    "import seaborn as sns\n",
    "import matplotlib.pyplot as plt\n",
    "import requests as re\n",
    "import os\n",
    "import datetime as dt\n",
    "import scipy.stats as st\n",
    "\n",
    "from sklearn import preprocessing\n",
    "from sklearn.preprocessing import LabelEncoder\n",
    "from sklearn.decomposition import PCA\n",
    "from sklearn.preprocessing import scale, normalize, StandardScaler, MinMaxScaler\n",
    "\n",
    "from sklearn.linear_model import LogisticRegression\n",
    "from sklearn.naive_bayes import GaussianNB\n",
    "from sklearn.ensemble import RandomForestClassifier\n",
    "from sklearn import svm\n",
    "import xgboost as xgb\n",
    "from sklearn.ensemble import GradientBoostingClassifier\n",
    "\n",
    "from sklearn.model_selection import train_test_split\n",
    "from sklearn.model_selection import cross_val_predict\n",
    "from sklearn import metrics\n",
    "from sklearn.metrics import classification_report\n",
    "from sklearn.metrics import confusion_matrix\n",
    "from sklearn.metrics import precision_score, recall_score, r2_score, accuracy_score,mean_squared_error, roc_curve, roc_auc_score\n",
    "from sklearn.feature_selection import SelectKBest\n",
    "from sklearn.feature_selection import chi2\n",
    "from xgboost import plot_tree\n",
    "\n",
    "plt.rcParams[\"figure.figsize\"] = (15,6)"
   ]
  },
  {
   "cell_type": "markdown",
   "metadata": {
    "tags": []
   },
   "source": [
    "## Main Task: Regression Problem"
   ]
  },
  {
   "cell_type": "markdown",
   "metadata": {},
   "source": [
    "The target variable is **ARR_DELAY**. We need to be careful which columns to use and which don't. For example, DEP_DELAY is going to be the perfect predictor, but we can't use it because in real-life scenario, we want to predict the delay before the flight takes of --> We can use average delay from earlier days but not the one from the actual flight we predict.  \n",
    "\n",
    "For example, variables **CARRIER_DELAY, WEATHER_DELAY, NAS_DELAY, SECURITY_DELAY, LATE_AIRCRAFT_DELAY** shouldn't be used directly as predictors as well. However, we can create various transformations from earlier values.\n",
    "\n",
    "We will be evaluating your models by predicting the ARR_DELAY for all flights **1 week in advance**."
   ]
  },
  {
   "cell_type": "code",
   "execution_count": 2,
   "metadata": {},
   "outputs": [],
   "source": [
    "df_flights = pd.read_csv('flights.csv')"
   ]
  },
  {
   "cell_type": "code",
   "execution_count": 3,
   "metadata": {},
   "outputs": [
    {
     "name": "stdout",
     "output_type": "stream",
     "text": [
      "<class 'pandas.core.frame.DataFrame'>\n",
      "RangeIndex: 110000 entries, 0 to 109999\n",
      "Data columns (total 42 columns):\n",
      " #   Column               Non-Null Count   Dtype  \n",
      "---  ------               --------------   -----  \n",
      " 0   fl_date              110000 non-null  object \n",
      " 1   mkt_unique_carrier   110000 non-null  object \n",
      " 2   branded_code_share   110000 non-null  object \n",
      " 3   mkt_carrier          110000 non-null  object \n",
      " 4   mkt_carrier_fl_num   110000 non-null  int64  \n",
      " 5   op_unique_carrier    110000 non-null  object \n",
      " 6   tail_num             109635 non-null  object \n",
      " 7   op_carrier_fl_num    110000 non-null  int64  \n",
      " 8   origin_airport_id    110000 non-null  int64  \n",
      " 9   origin               110000 non-null  object \n",
      " 10  origin_city_name     110000 non-null  object \n",
      " 11  dest_airport_id      110000 non-null  int64  \n",
      " 12  dest                 110000 non-null  object \n",
      " 13  dest_city_name       110000 non-null  object \n",
      " 14  crs_dep_time         110000 non-null  int64  \n",
      " 15  dep_time             108751 non-null  float64\n",
      " 16  dep_delay            108751 non-null  float64\n",
      " 17  taxi_out             108307 non-null  float64\n",
      " 18  wheels_off           108307 non-null  float64\n",
      " 19  wheels_on            108280 non-null  float64\n",
      " 20  taxi_in              108280 non-null  float64\n",
      " 21  crs_arr_time         110000 non-null  int64  \n",
      " 22  arr_time             108679 non-null  float64\n",
      " 23  arr_delay            108459 non-null  float64\n",
      " 24  cancelled            110000 non-null  int64  \n",
      " 25  cancellation_code    1300 non-null    object \n",
      " 26  diverted             110000 non-null  int64  \n",
      " 27  dup                  110000 non-null  object \n",
      " 28  crs_elapsed_time     110000 non-null  int64  \n",
      " 29  actual_elapsed_time  108459 non-null  float64\n",
      " 30  air_time             108061 non-null  float64\n",
      " 31  flights              110000 non-null  int64  \n",
      " 32  distance             110000 non-null  int64  \n",
      " 33  carrier_delay        20858 non-null   float64\n",
      " 34  weather_delay        20858 non-null   float64\n",
      " 35  nas_delay            20858 non-null   float64\n",
      " 36  security_delay       20858 non-null   float64\n",
      " 37  late_aircraft_delay  20858 non-null   float64\n",
      " 38  first_dep_time       719 non-null     float64\n",
      " 39  total_add_gtime      719 non-null     float64\n",
      " 40  longest_add_gtime    719 non-null     float64\n",
      " 41  no_name              0 non-null       float64\n",
      "dtypes: float64(19), int64(11), object(12)\n",
      "memory usage: 35.2+ MB\n"
     ]
    }
   ],
   "source": [
    "df_flights.info()"
   ]
  },
  {
   "cell_type": "code",
   "execution_count": 4,
   "metadata": {},
   "outputs": [
    {
     "data": {
      "text/plain": [
       "fl_date                     0\n",
       "mkt_unique_carrier          0\n",
       "branded_code_share          0\n",
       "mkt_carrier                 0\n",
       "mkt_carrier_fl_num          0\n",
       "op_unique_carrier           0\n",
       "tail_num                  365\n",
       "op_carrier_fl_num           0\n",
       "origin_airport_id           0\n",
       "origin                      0\n",
       "origin_city_name            0\n",
       "dest_airport_id             0\n",
       "dest                        0\n",
       "dest_city_name              0\n",
       "crs_dep_time                0\n",
       "dep_time                 1249\n",
       "dep_delay                1249\n",
       "taxi_out                 1693\n",
       "wheels_off               1693\n",
       "wheels_on                1720\n",
       "taxi_in                  1720\n",
       "crs_arr_time                0\n",
       "arr_time                 1321\n",
       "arr_delay                1541\n",
       "cancelled                   0\n",
       "cancellation_code      108700\n",
       "diverted                    0\n",
       "dup                         0\n",
       "crs_elapsed_time            0\n",
       "actual_elapsed_time      1541\n",
       "air_time                 1939\n",
       "flights                     0\n",
       "distance                    0\n",
       "carrier_delay           89142\n",
       "weather_delay           89142\n",
       "nas_delay               89142\n",
       "security_delay          89142\n",
       "late_aircraft_delay     89142\n",
       "first_dep_time         109281\n",
       "total_add_gtime        109281\n",
       "longest_add_gtime      109281\n",
       "no_name                110000\n",
       "dtype: int64"
      ]
     },
     "execution_count": 4,
     "metadata": {},
     "output_type": "execute_result"
    }
   ],
   "source": [
    "pd.isnull(df_flights).sum()"
   ]
  },
  {
   "cell_type": "markdown",
   "metadata": {},
   "source": [
    "#### Variable Descriptions"
   ]
  },
  {
   "cell_type": "raw",
   "metadata": {},
   "source": [
    "fl_date: Flight Date (yyyy-mm-dd)\n",
    "\n",
    "mkt_unique_carrier: Unique Marketing Carrier Code. When the same code has been used by multiple carriers, a numeric suffix is used for earlier users, for example, PA, PA(1), PA(2). Use this field for analysis across a range of years.\n",
    "\n",
    "branded_code_share: Reporting Carrier Operated or Branded Code Share Partners\n",
    "\n",
    "mkt_carrier: Code assigned by IATA and commonly used to identify a carrier. As the same code may have been assigned to different carriers over time, the code is not always unique. For analysis, use the Unique Carrier Code.\n",
    "\n",
    "mkt_carrier_fl_num: Flight Number\n",
    "op_unique_carrier: Unique Scheduled Operating Carrier Code. When the same code has been used by multiple carriers, a numeric suffix is used for earlier users,for example, PA, PA(1), PA(2). Use this field for analysis across a range of years.\n",
    "tail_num: Tail Number\n",
    "\n",
    "op_carrier_fl_num: Flight Number\n",
    "\n",
    "origin_airport_id: Origin Airport, Airport ID. An identification number assigned by US DOT to identify a unique airport. Use this field for airport analysis across a range of years because an airport can change its airport code and airport codes can be reused.\n",
    "\n",
    "origin: Origin Airport\n",
    "\n",
    "origin_city_name: Origin Airport, City Name\n",
    "\n",
    "dest_airport_id: Destination Airport, Airport ID. An identification number assigned by US DOT to identify a unique airport. Use this field for airport analysis across a range of years because an airport can change its airport code and airport codes can be reused.\n",
    "\n",
    "dest: Destination Airport\n",
    "\n",
    "dest_city_name: Destination Airport, City Name\n",
    "\n",
    "crs_dep_time: CRS Departure Time (local time: hhmm)\n",
    "\n",
    "dep_time: Actual Departure Time (local time: hhmm)\n",
    "\n",
    "dep_delay: Difference in minutes between scheduled and actual departure time. Early departures show negative numbers.\n",
    "\n",
    "taxi_out: Taxi Out Time, in Minutes\n",
    "\n",
    "wheels_off: Wheels Off Time (local time: hhmm)\n",
    "\n",
    "wheels_on: Wheels On Time (local time: hhmm)\n",
    "\n",
    "taxi_in: Taxi In Time, in Minutes\n",
    "\n",
    "crs_arr_time: CRS Arrival Time (local time: hhmm)\n",
    "\n",
    "arr_time: Actual Arrival Time (local time: hhmm)\n",
    "\n",
    "arr_delay: Difference in minutes between scheduled and actual arrival time. Early arrivals show negative numbers.\n",
    "\n",
    "cancelled: Cancelled Flight Indicator (1=Yes)\n",
    "\n",
    "cancellation_code: Specifies The Reason For Cancellation\n",
    "\n",
    "diverted: Diverted Flight Indicator (1=Yes)\n",
    "\n",
    "dup: Duplicate flag marked Y if the flight is swapped based on Form-3A data\n",
    "\n",
    "crs_elapsed_time: CRS Elapsed Time of Flight, in Minutes\n",
    "\n",
    "actual_elapsed_time: Elapsed Time of Flight, in Minutes\n",
    "\n",
    "air_time: Flight Time, in Minutes\n",
    "\n",
    "flights: Number of Flights\n",
    "\n",
    "distance: Distance between airports (miles)\n",
    "\n",
    "carrier_delay: Carrier Delay, in Minutes\n",
    "\n",
    "weather_delay: Weather Delay, in Minutes\n",
    "\n",
    "nas_delay: National Air System Delay, in Minutes\n",
    "\n",
    "security_delay: Security Delay, in Minutes\n",
    "\n",
    "late_aircraft_delay: Late Aircraft Delay, in Minutes\n",
    "\n",
    "first_dep_time: First Gate Departure Time at Origin Airport\n",
    "\n",
    "total_add_gtime: Total Ground Time Away from Gate for Gate Return or Cancelled Flight\n",
    "\n",
    "longest_add_gtime: Longest Time Away from Gate for Gate Return or Cancelled Flight"
   ]
  },
  {
   "cell_type": "markdown",
   "metadata": {
    "tags": []
   },
   "source": [
    "### Feature Engineering"
   ]
  },
  {
   "cell_type": "markdown",
   "metadata": {},
   "source": [
    "Feature engineering will play a crucial role in this problems. We have only very little attributes so we need to create some features that will have some predictive power.\n",
    "\n",
    "- weather: we can use some weather API to look for the weather in time of the scheduled departure and scheduled arrival.\n",
    "- statistics (avg, mean, median, std, min, max...): we can take a look at previous delays and compute descriptive statistics\n",
    "- airports encoding: we need to think about what to do with the airports and other categorical variables\n",
    "- time of the day: the delay probably depends on the airport traffic which varies during the day.\n",
    "- airport traffic\n",
    "- unsupervised learning as feature engineering?\n",
    "- **what are the additional options?**: Think about what we could do more to improve the model."
   ]
  },
  {
   "cell_type": "markdown",
   "metadata": {},
   "source": [
    "##### Dropping irrelevant values values"
   ]
  },
  {
   "cell_type": "code",
   "execution_count": 5,
   "metadata": {},
   "outputs": [
    {
     "data": {
      "text/html": [
       "<div>\n",
       "<style scoped>\n",
       "    .dataframe tbody tr th:only-of-type {\n",
       "        vertical-align: middle;\n",
       "    }\n",
       "\n",
       "    .dataframe tbody tr th {\n",
       "        vertical-align: top;\n",
       "    }\n",
       "\n",
       "    .dataframe thead th {\n",
       "        text-align: right;\n",
       "    }\n",
       "</style>\n",
       "<table border=\"1\" class=\"dataframe\">\n",
       "  <thead>\n",
       "    <tr style=\"text-align: right;\">\n",
       "      <th></th>\n",
       "      <th>fl_date</th>\n",
       "      <th>mkt_unique_carrier</th>\n",
       "      <th>branded_code_share</th>\n",
       "      <th>mkt_carrier</th>\n",
       "      <th>mkt_carrier_fl_num</th>\n",
       "      <th>op_unique_carrier</th>\n",
       "      <th>op_carrier_fl_num</th>\n",
       "      <th>origin_airport_id</th>\n",
       "      <th>origin</th>\n",
       "      <th>origin_city_name</th>\n",
       "      <th>...</th>\n",
       "      <th>wheels_off</th>\n",
       "      <th>wheels_on</th>\n",
       "      <th>taxi_in</th>\n",
       "      <th>crs_arr_time</th>\n",
       "      <th>arr_time</th>\n",
       "      <th>arr_delay</th>\n",
       "      <th>crs_elapsed_time</th>\n",
       "      <th>actual_elapsed_time</th>\n",
       "      <th>air_time</th>\n",
       "      <th>distance</th>\n",
       "    </tr>\n",
       "  </thead>\n",
       "  <tbody>\n",
       "    <tr>\n",
       "      <th>0</th>\n",
       "      <td>2018-10-10</td>\n",
       "      <td>AS</td>\n",
       "      <td>AS</td>\n",
       "      <td>AS</td>\n",
       "      <td>1</td>\n",
       "      <td>AS</td>\n",
       "      <td>1</td>\n",
       "      <td>11278</td>\n",
       "      <td>DCA</td>\n",
       "      <td>Washington, DC</td>\n",
       "      <td>...</td>\n",
       "      <td>809.0</td>\n",
       "      <td>1003.0</td>\n",
       "      <td>10.0</td>\n",
       "      <td>1100</td>\n",
       "      <td>1013.0</td>\n",
       "      <td>-47.0</td>\n",
       "      <td>360</td>\n",
       "      <td>321.0</td>\n",
       "      <td>294.0</td>\n",
       "      <td>2329</td>\n",
       "    </tr>\n",
       "    <tr>\n",
       "      <th>1</th>\n",
       "      <td>2018-11-11</td>\n",
       "      <td>G4</td>\n",
       "      <td>G4</td>\n",
       "      <td>G4</td>\n",
       "      <td>2</td>\n",
       "      <td>G4</td>\n",
       "      <td>2</td>\n",
       "      <td>12889</td>\n",
       "      <td>LAS</td>\n",
       "      <td>Las Vegas, NV</td>\n",
       "      <td>...</td>\n",
       "      <td>1515.0</td>\n",
       "      <td>1600.0</td>\n",
       "      <td>4.0</td>\n",
       "      <td>1619</td>\n",
       "      <td>1604.0</td>\n",
       "      <td>-15.0</td>\n",
       "      <td>71</td>\n",
       "      <td>68.0</td>\n",
       "      <td>45.0</td>\n",
       "      <td>259</td>\n",
       "    </tr>\n",
       "    <tr>\n",
       "      <th>2</th>\n",
       "      <td>2019-05-26</td>\n",
       "      <td>G4</td>\n",
       "      <td>G4</td>\n",
       "      <td>G4</td>\n",
       "      <td>2</td>\n",
       "      <td>G4</td>\n",
       "      <td>2</td>\n",
       "      <td>12889</td>\n",
       "      <td>LAS</td>\n",
       "      <td>Las Vegas, NV</td>\n",
       "      <td>...</td>\n",
       "      <td>5.0</td>\n",
       "      <td>533.0</td>\n",
       "      <td>4.0</td>\n",
       "      <td>600</td>\n",
       "      <td>537.0</td>\n",
       "      <td>-23.0</td>\n",
       "      <td>245</td>\n",
       "      <td>227.0</td>\n",
       "      <td>208.0</td>\n",
       "      <td>1510</td>\n",
       "    </tr>\n",
       "    <tr>\n",
       "      <th>3</th>\n",
       "      <td>2019-06-12</td>\n",
       "      <td>WN</td>\n",
       "      <td>WN</td>\n",
       "      <td>WN</td>\n",
       "      <td>4</td>\n",
       "      <td>WN</td>\n",
       "      <td>4</td>\n",
       "      <td>11259</td>\n",
       "      <td>DAL</td>\n",
       "      <td>Dallas, TX</td>\n",
       "      <td>...</td>\n",
       "      <td>850.0</td>\n",
       "      <td>925.0</td>\n",
       "      <td>3.0</td>\n",
       "      <td>935</td>\n",
       "      <td>928.0</td>\n",
       "      <td>-7.0</td>\n",
       "      <td>60</td>\n",
       "      <td>55.0</td>\n",
       "      <td>35.0</td>\n",
       "      <td>189</td>\n",
       "    </tr>\n",
       "    <tr>\n",
       "      <th>4</th>\n",
       "      <td>2018-05-03</td>\n",
       "      <td>DL</td>\n",
       "      <td>DL</td>\n",
       "      <td>DL</td>\n",
       "      <td>5</td>\n",
       "      <td>DL</td>\n",
       "      <td>5</td>\n",
       "      <td>12892</td>\n",
       "      <td>LAX</td>\n",
       "      <td>Los Angeles, CA</td>\n",
       "      <td>...</td>\n",
       "      <td>2105.0</td>\n",
       "      <td>2154.0</td>\n",
       "      <td>4.0</td>\n",
       "      <td>2216</td>\n",
       "      <td>2158.0</td>\n",
       "      <td>-18.0</td>\n",
       "      <td>76</td>\n",
       "      <td>62.0</td>\n",
       "      <td>49.0</td>\n",
       "      <td>236</td>\n",
       "    </tr>\n",
       "    <tr>\n",
       "      <th>...</th>\n",
       "      <td>...</td>\n",
       "      <td>...</td>\n",
       "      <td>...</td>\n",
       "      <td>...</td>\n",
       "      <td>...</td>\n",
       "      <td>...</td>\n",
       "      <td>...</td>\n",
       "      <td>...</td>\n",
       "      <td>...</td>\n",
       "      <td>...</td>\n",
       "      <td>...</td>\n",
       "      <td>...</td>\n",
       "      <td>...</td>\n",
       "      <td>...</td>\n",
       "      <td>...</td>\n",
       "      <td>...</td>\n",
       "      <td>...</td>\n",
       "      <td>...</td>\n",
       "      <td>...</td>\n",
       "      <td>...</td>\n",
       "      <td>...</td>\n",
       "    </tr>\n",
       "    <tr>\n",
       "      <th>109995</th>\n",
       "      <td>2019-12-05</td>\n",
       "      <td>DL</td>\n",
       "      <td>DL</td>\n",
       "      <td>DL</td>\n",
       "      <td>716</td>\n",
       "      <td>DL</td>\n",
       "      <td>716</td>\n",
       "      <td>10397</td>\n",
       "      <td>ATL</td>\n",
       "      <td>Atlanta, GA</td>\n",
       "      <td>...</td>\n",
       "      <td>2250.0</td>\n",
       "      <td>2327.0</td>\n",
       "      <td>4.0</td>\n",
       "      <td>2359</td>\n",
       "      <td>2331.0</td>\n",
       "      <td>-28.0</td>\n",
       "      <td>137</td>\n",
       "      <td>117.0</td>\n",
       "      <td>97.0</td>\n",
       "      <td>689</td>\n",
       "    </tr>\n",
       "    <tr>\n",
       "      <th>109996</th>\n",
       "      <td>2018-10-26</td>\n",
       "      <td>WN</td>\n",
       "      <td>WN</td>\n",
       "      <td>WN</td>\n",
       "      <td>716</td>\n",
       "      <td>WN</td>\n",
       "      <td>716</td>\n",
       "      <td>11066</td>\n",
       "      <td>CMH</td>\n",
       "      <td>Columbus, OH</td>\n",
       "      <td>...</td>\n",
       "      <td>1242.0</td>\n",
       "      <td>1449.0</td>\n",
       "      <td>4.0</td>\n",
       "      <td>1500</td>\n",
       "      <td>1453.0</td>\n",
       "      <td>-7.0</td>\n",
       "      <td>145</td>\n",
       "      <td>140.0</td>\n",
       "      <td>127.0</td>\n",
       "      <td>930</td>\n",
       "    </tr>\n",
       "    <tr>\n",
       "      <th>109997</th>\n",
       "      <td>2018-10-28</td>\n",
       "      <td>DL</td>\n",
       "      <td>DL</td>\n",
       "      <td>DL</td>\n",
       "      <td>716</td>\n",
       "      <td>DL</td>\n",
       "      <td>716</td>\n",
       "      <td>13487</td>\n",
       "      <td>MSP</td>\n",
       "      <td>Minneapolis, MN</td>\n",
       "      <td>...</td>\n",
       "      <td>1751.0</td>\n",
       "      <td>1915.0</td>\n",
       "      <td>5.0</td>\n",
       "      <td>1947</td>\n",
       "      <td>1920.0</td>\n",
       "      <td>-27.0</td>\n",
       "      <td>242</td>\n",
       "      <td>220.0</td>\n",
       "      <td>204.0</td>\n",
       "      <td>1522</td>\n",
       "    </tr>\n",
       "    <tr>\n",
       "      <th>109998</th>\n",
       "      <td>2019-03-03</td>\n",
       "      <td>B6</td>\n",
       "      <td>B6</td>\n",
       "      <td>B6</td>\n",
       "      <td>716</td>\n",
       "      <td>B6</td>\n",
       "      <td>716</td>\n",
       "      <td>12451</td>\n",
       "      <td>JAX</td>\n",
       "      <td>Jacksonville, FL</td>\n",
       "      <td>...</td>\n",
       "      <td>1905.0</td>\n",
       "      <td>2027.0</td>\n",
       "      <td>4.0</td>\n",
       "      <td>1824</td>\n",
       "      <td>2031.0</td>\n",
       "      <td>127.0</td>\n",
       "      <td>108</td>\n",
       "      <td>96.0</td>\n",
       "      <td>82.0</td>\n",
       "      <td>634</td>\n",
       "    </tr>\n",
       "    <tr>\n",
       "      <th>109999</th>\n",
       "      <td>2019-07-17</td>\n",
       "      <td>DL</td>\n",
       "      <td>DL</td>\n",
       "      <td>DL</td>\n",
       "      <td>716</td>\n",
       "      <td>DL</td>\n",
       "      <td>716</td>\n",
       "      <td>10397</td>\n",
       "      <td>ATL</td>\n",
       "      <td>Atlanta, GA</td>\n",
       "      <td>...</td>\n",
       "      <td>2244.0</td>\n",
       "      <td>9.0</td>\n",
       "      <td>6.0</td>\n",
       "      <td>2330</td>\n",
       "      <td>15.0</td>\n",
       "      <td>45.0</td>\n",
       "      <td>115</td>\n",
       "      <td>102.0</td>\n",
       "      <td>85.0</td>\n",
       "      <td>594</td>\n",
       "    </tr>\n",
       "  </tbody>\n",
       "</table>\n",
       "<p>110000 rows × 25 columns</p>\n",
       "</div>"
      ],
      "text/plain": [
       "           fl_date mkt_unique_carrier branded_code_share mkt_carrier  \\\n",
       "0       2018-10-10                 AS                 AS          AS   \n",
       "1       2018-11-11                 G4                 G4          G4   \n",
       "2       2019-05-26                 G4                 G4          G4   \n",
       "3       2019-06-12                 WN                 WN          WN   \n",
       "4       2018-05-03                 DL                 DL          DL   \n",
       "...            ...                ...                ...         ...   \n",
       "109995  2019-12-05                 DL                 DL          DL   \n",
       "109996  2018-10-26                 WN                 WN          WN   \n",
       "109997  2018-10-28                 DL                 DL          DL   \n",
       "109998  2019-03-03                 B6                 B6          B6   \n",
       "109999  2019-07-17                 DL                 DL          DL   \n",
       "\n",
       "        mkt_carrier_fl_num op_unique_carrier  op_carrier_fl_num  \\\n",
       "0                        1                AS                  1   \n",
       "1                        2                G4                  2   \n",
       "2                        2                G4                  2   \n",
       "3                        4                WN                  4   \n",
       "4                        5                DL                  5   \n",
       "...                    ...               ...                ...   \n",
       "109995                 716                DL                716   \n",
       "109996                 716                WN                716   \n",
       "109997                 716                DL                716   \n",
       "109998                 716                B6                716   \n",
       "109999                 716                DL                716   \n",
       "\n",
       "        origin_airport_id origin  origin_city_name  ...  wheels_off wheels_on  \\\n",
       "0                   11278    DCA    Washington, DC  ...       809.0    1003.0   \n",
       "1                   12889    LAS     Las Vegas, NV  ...      1515.0    1600.0   \n",
       "2                   12889    LAS     Las Vegas, NV  ...         5.0     533.0   \n",
       "3                   11259    DAL        Dallas, TX  ...       850.0     925.0   \n",
       "4                   12892    LAX   Los Angeles, CA  ...      2105.0    2154.0   \n",
       "...                   ...    ...               ...  ...         ...       ...   \n",
       "109995              10397    ATL       Atlanta, GA  ...      2250.0    2327.0   \n",
       "109996              11066    CMH      Columbus, OH  ...      1242.0    1449.0   \n",
       "109997              13487    MSP   Minneapolis, MN  ...      1751.0    1915.0   \n",
       "109998              12451    JAX  Jacksonville, FL  ...      1905.0    2027.0   \n",
       "109999              10397    ATL       Atlanta, GA  ...      2244.0       9.0   \n",
       "\n",
       "        taxi_in  crs_arr_time  arr_time  arr_delay  crs_elapsed_time  \\\n",
       "0          10.0          1100    1013.0      -47.0               360   \n",
       "1           4.0          1619    1604.0      -15.0                71   \n",
       "2           4.0           600     537.0      -23.0               245   \n",
       "3           3.0           935     928.0       -7.0                60   \n",
       "4           4.0          2216    2158.0      -18.0                76   \n",
       "...         ...           ...       ...        ...               ...   \n",
       "109995      4.0          2359    2331.0      -28.0               137   \n",
       "109996      4.0          1500    1453.0       -7.0               145   \n",
       "109997      5.0          1947    1920.0      -27.0               242   \n",
       "109998      4.0          1824    2031.0      127.0               108   \n",
       "109999      6.0          2330      15.0       45.0               115   \n",
       "\n",
       "        actual_elapsed_time  air_time  distance  \n",
       "0                     321.0     294.0      2329  \n",
       "1                      68.0      45.0       259  \n",
       "2                     227.0     208.0      1510  \n",
       "3                      55.0      35.0       189  \n",
       "4                      62.0      49.0       236  \n",
       "...                     ...       ...       ...  \n",
       "109995                117.0      97.0       689  \n",
       "109996                140.0     127.0       930  \n",
       "109997                220.0     204.0      1522  \n",
       "109998                 96.0      82.0       634  \n",
       "109999                102.0      85.0       594  \n",
       "\n",
       "[110000 rows x 25 columns]"
      ]
     },
     "execution_count": 5,
     "metadata": {},
     "output_type": "execute_result"
    }
   ],
   "source": [
    "df_flights = df_flights.drop(['flights','cancelled','cancellation_code','dup','diverted','dest_city_name','tail_num',\n",
    "                 'dep_delay','carrier_delay','weather_delay','nas_delay','security_delay','late_aircraft_delay',\n",
    "                 'first_dep_time','total_add_gtime','longest_add_gtime','no_name'],axis=1)\n",
    "df_flights"
   ]
  },
  {
   "cell_type": "code",
   "execution_count": 6,
   "metadata": {},
   "outputs": [
    {
     "name": "stdout",
     "output_type": "stream",
     "text": [
      "Old length of dataset with NAN values: 110000\n"
     ]
    }
   ],
   "source": [
    "#We will drop NAN columns since it doesnt have a significant impact on a dataset of 110,000\n",
    "print(\"Old length of dataset with NAN values:\",len(df_flights))\n",
    "df_flights = df_flights.dropna()"
   ]
  },
  {
   "cell_type": "code",
   "execution_count": 7,
   "metadata": {},
   "outputs": [
    {
     "name": "stdout",
     "output_type": "stream",
     "text": [
      "fl_date                0\n",
      "mkt_unique_carrier     0\n",
      "branded_code_share     0\n",
      "mkt_carrier            0\n",
      "mkt_carrier_fl_num     0\n",
      "op_unique_carrier      0\n",
      "op_carrier_fl_num      0\n",
      "origin_airport_id      0\n",
      "origin                 0\n",
      "origin_city_name       0\n",
      "dest_airport_id        0\n",
      "dest                   0\n",
      "crs_dep_time           0\n",
      "dep_time               0\n",
      "taxi_out               0\n",
      "wheels_off             0\n",
      "wheels_on              0\n",
      "taxi_in                0\n",
      "crs_arr_time           0\n",
      "arr_time               0\n",
      "arr_delay              0\n",
      "crs_elapsed_time       0\n",
      "actual_elapsed_time    0\n",
      "air_time               0\n",
      "distance               0\n",
      "dtype: int64\n",
      "New length of dataset after dropping NAN values: 108061\n"
     ]
    }
   ],
   "source": [
    "print(pd.isnull(df_flights).sum())\n",
    "print(\"New length of dataset after dropping NAN values:\",len(df_flights))"
   ]
  },
  {
   "cell_type": "code",
   "execution_count": 8,
   "metadata": {},
   "outputs": [
    {
     "data": {
      "text/plain": [
       "fl_date                 object\n",
       "mkt_unique_carrier      object\n",
       "branded_code_share      object\n",
       "mkt_carrier             object\n",
       "mkt_carrier_fl_num       int64\n",
       "op_unique_carrier       object\n",
       "op_carrier_fl_num        int64\n",
       "origin_airport_id        int64\n",
       "origin                  object\n",
       "origin_city_name        object\n",
       "dest_airport_id          int64\n",
       "dest                    object\n",
       "crs_dep_time             int64\n",
       "dep_time               float64\n",
       "taxi_out               float64\n",
       "wheels_off             float64\n",
       "wheels_on              float64\n",
       "taxi_in                float64\n",
       "crs_arr_time             int64\n",
       "arr_time               float64\n",
       "arr_delay              float64\n",
       "crs_elapsed_time         int64\n",
       "actual_elapsed_time    float64\n",
       "air_time               float64\n",
       "distance                 int64\n",
       "dtype: object"
      ]
     },
     "execution_count": 8,
     "metadata": {},
     "output_type": "execute_result"
    }
   ],
   "source": [
    "df_flights.dtypes"
   ]
  },
  {
   "cell_type": "code",
   "execution_count": 9,
   "metadata": {},
   "outputs": [],
   "source": [
    "#Weather column will be avoided do to api strain on 110,000 rows."
   ]
  },
  {
   "cell_type": "code",
   "execution_count": 10,
   "metadata": {},
   "outputs": [
    {
     "data": {
      "text/html": [
       "<div>\n",
       "<style scoped>\n",
       "    .dataframe tbody tr th:only-of-type {\n",
       "        vertical-align: middle;\n",
       "    }\n",
       "\n",
       "    .dataframe tbody tr th {\n",
       "        vertical-align: top;\n",
       "    }\n",
       "\n",
       "    .dataframe thead th {\n",
       "        text-align: right;\n",
       "    }\n",
       "</style>\n",
       "<table border=\"1\" class=\"dataframe\">\n",
       "  <thead>\n",
       "    <tr style=\"text-align: right;\">\n",
       "      <th></th>\n",
       "      <th>index</th>\n",
       "      <th>arr_delay</th>\n",
       "    </tr>\n",
       "  </thead>\n",
       "  <tbody>\n",
       "    <tr>\n",
       "      <th>0</th>\n",
       "      <td>count</td>\n",
       "      <td>108061.000000</td>\n",
       "    </tr>\n",
       "    <tr>\n",
       "      <th>1</th>\n",
       "      <td>mean</td>\n",
       "      <td>4.830133</td>\n",
       "    </tr>\n",
       "    <tr>\n",
       "      <th>2</th>\n",
       "      <td>std</td>\n",
       "      <td>46.739236</td>\n",
       "    </tr>\n",
       "    <tr>\n",
       "      <th>3</th>\n",
       "      <td>min</td>\n",
       "      <td>-84.000000</td>\n",
       "    </tr>\n",
       "    <tr>\n",
       "      <th>4</th>\n",
       "      <td>25%</td>\n",
       "      <td>-15.000000</td>\n",
       "    </tr>\n",
       "    <tr>\n",
       "      <th>5</th>\n",
       "      <td>50%</td>\n",
       "      <td>-6.000000</td>\n",
       "    </tr>\n",
       "    <tr>\n",
       "      <th>6</th>\n",
       "      <td>75%</td>\n",
       "      <td>8.000000</td>\n",
       "    </tr>\n",
       "    <tr>\n",
       "      <th>7</th>\n",
       "      <td>max</td>\n",
       "      <td>1402.000000</td>\n",
       "    </tr>\n",
       "  </tbody>\n",
       "</table>\n",
       "</div>"
      ],
      "text/plain": [
       "   index      arr_delay\n",
       "0  count  108061.000000\n",
       "1   mean       4.830133\n",
       "2    std      46.739236\n",
       "3    min     -84.000000\n",
       "4    25%     -15.000000\n",
       "5    50%      -6.000000\n",
       "6    75%       8.000000\n",
       "7    max    1402.000000"
      ]
     },
     "execution_count": 10,
     "metadata": {},
     "output_type": "execute_result"
    }
   ],
   "source": [
    "#Statistics\n",
    "df_flights['arr_delay'].describe().reset_index()"
   ]
  },
  {
   "cell_type": "code",
   "execution_count": 11,
   "metadata": {},
   "outputs": [],
   "source": [
    "#Ignore warnings\n",
    "import warnings\n",
    "warnings.filterwarnings('ignore')\n",
    "\n",
    "label_encoder = LabelEncoder()\n",
    "encode_cols = ['mkt_unique_carrier','origin','dest']\n",
    "for col in encode_cols:\n",
    "    df_flights[col] = label_encoder.fit_transform(df_flights[col])"
   ]
  },
  {
   "cell_type": "code",
   "execution_count": 12,
   "metadata": {},
   "outputs": [
    {
     "data": {
      "text/plain": [
       "fl_date                 object\n",
       "mkt_unique_carrier       int64\n",
       "mkt_carrier_fl_num       int64\n",
       "op_carrier_fl_num        int64\n",
       "origin_airport_id        int64\n",
       "origin                   int64\n",
       "origin_city_name        object\n",
       "dest_airport_id          int64\n",
       "dest                     int64\n",
       "crs_dep_time             int64\n",
       "dep_time               float64\n",
       "taxi_out               float64\n",
       "wheels_off             float64\n",
       "wheels_on              float64\n",
       "taxi_in                float64\n",
       "crs_arr_time             int64\n",
       "arr_time               float64\n",
       "arr_delay              float64\n",
       "crs_elapsed_time         int64\n",
       "actual_elapsed_time    float64\n",
       "air_time               float64\n",
       "distance                 int64\n",
       "dtype: object"
      ]
     },
     "execution_count": 12,
     "metadata": {},
     "output_type": "execute_result"
    }
   ],
   "source": [
    "#Delete unique carrier duplicate information.\n",
    "df_flights = df_flights.drop(['branded_code_share','mkt_carrier','op_unique_carrier'],axis=1)\n",
    "df_flights.dtypes"
   ]
  },
  {
   "cell_type": "code",
   "execution_count": 13,
   "metadata": {},
   "outputs": [
    {
     "data": {
      "text/html": [
       "<div>\n",
       "<style scoped>\n",
       "    .dataframe tbody tr th:only-of-type {\n",
       "        vertical-align: middle;\n",
       "    }\n",
       "\n",
       "    .dataframe tbody tr th {\n",
       "        vertical-align: top;\n",
       "    }\n",
       "\n",
       "    .dataframe thead th {\n",
       "        text-align: right;\n",
       "    }\n",
       "</style>\n",
       "<table border=\"1\" class=\"dataframe\">\n",
       "  <thead>\n",
       "    <tr style=\"text-align: right;\">\n",
       "      <th></th>\n",
       "      <th>fl_date</th>\n",
       "      <th>unix_date</th>\n",
       "    </tr>\n",
       "  </thead>\n",
       "  <tbody>\n",
       "    <tr>\n",
       "      <th>0</th>\n",
       "      <td>2018-10-10</td>\n",
       "      <td>1539129600</td>\n",
       "    </tr>\n",
       "    <tr>\n",
       "      <th>1</th>\n",
       "      <td>2018-11-11</td>\n",
       "      <td>1541894400</td>\n",
       "    </tr>\n",
       "    <tr>\n",
       "      <th>2</th>\n",
       "      <td>2019-05-26</td>\n",
       "      <td>1558828800</td>\n",
       "    </tr>\n",
       "    <tr>\n",
       "      <th>3</th>\n",
       "      <td>2019-06-12</td>\n",
       "      <td>1560297600</td>\n",
       "    </tr>\n",
       "    <tr>\n",
       "      <th>4</th>\n",
       "      <td>2018-05-03</td>\n",
       "      <td>1525305600</td>\n",
       "    </tr>\n",
       "  </tbody>\n",
       "</table>\n",
       "</div>"
      ],
      "text/plain": [
       "      fl_date   unix_date\n",
       "0  2018-10-10  1539129600\n",
       "1  2018-11-11  1541894400\n",
       "2  2019-05-26  1558828800\n",
       "3  2019-06-12  1560297600\n",
       "4  2018-05-03  1525305600"
      ]
     },
     "execution_count": 13,
     "metadata": {},
     "output_type": "execute_result"
    }
   ],
   "source": [
    "#Convert date to unix timestamp\n",
    "df_flights['unix_date'] = (pd.to_datetime(df_flights['fl_date'],format='%Y-%m-%d') - pd.Timestamp(\"1970-01-01\")) // pd.Timedelta('1s')\n",
    "df_flights[['fl_date','unix_date']].head()"
   ]
  },
  {
   "cell_type": "code",
   "execution_count": 14,
   "metadata": {},
   "outputs": [
    {
     "data": {
      "text/html": [
       "<div>\n",
       "<style scoped>\n",
       "    .dataframe tbody tr th:only-of-type {\n",
       "        vertical-align: middle;\n",
       "    }\n",
       "\n",
       "    .dataframe tbody tr th {\n",
       "        vertical-align: top;\n",
       "    }\n",
       "\n",
       "    .dataframe thead th {\n",
       "        text-align: right;\n",
       "    }\n",
       "</style>\n",
       "<table border=\"1\" class=\"dataframe\">\n",
       "  <thead>\n",
       "    <tr style=\"text-align: right;\">\n",
       "      <th></th>\n",
       "      <th>origin_airport_id</th>\n",
       "      <th>passengers</th>\n",
       "    </tr>\n",
       "  </thead>\n",
       "  <tbody>\n",
       "    <tr>\n",
       "      <th>0</th>\n",
       "      <td>13930</td>\n",
       "      <td>7580294</td>\n",
       "    </tr>\n",
       "    <tr>\n",
       "      <th>1</th>\n",
       "      <td>11292</td>\n",
       "      <td>7285747</td>\n",
       "    </tr>\n",
       "    <tr>\n",
       "      <th>2</th>\n",
       "      <td>10397</td>\n",
       "      <td>6779152</td>\n",
       "    </tr>\n",
       "    <tr>\n",
       "      <th>3</th>\n",
       "      <td>12266</td>\n",
       "      <td>5465448</td>\n",
       "    </tr>\n",
       "    <tr>\n",
       "      <th>4</th>\n",
       "      <td>12892</td>\n",
       "      <td>5080153</td>\n",
       "    </tr>\n",
       "    <tr>\n",
       "      <th>5</th>\n",
       "      <td>13487</td>\n",
       "      <td>4848615</td>\n",
       "    </tr>\n",
       "    <tr>\n",
       "      <th>6</th>\n",
       "      <td>11433</td>\n",
       "      <td>4735339</td>\n",
       "    </tr>\n",
       "    <tr>\n",
       "      <th>7</th>\n",
       "      <td>12478</td>\n",
       "      <td>4282239</td>\n",
       "    </tr>\n",
       "    <tr>\n",
       "      <th>8</th>\n",
       "      <td>14107</td>\n",
       "      <td>4281457</td>\n",
       "    </tr>\n",
       "    <tr>\n",
       "      <th>9</th>\n",
       "      <td>11618</td>\n",
       "      <td>4280150</td>\n",
       "    </tr>\n",
       "  </tbody>\n",
       "</table>\n",
       "</div>"
      ],
      "text/plain": [
       "   origin_airport_id  passengers\n",
       "0              13930     7580294\n",
       "1              11292     7285747\n",
       "2              10397     6779152\n",
       "3              12266     5465448\n",
       "4              12892     5080153\n",
       "5              13487     4848615\n",
       "6              11433     4735339\n",
       "7              12478     4282239\n",
       "8              14107     4281457\n",
       "9              11618     4280150"
      ]
     },
     "execution_count": 14,
     "metadata": {},
     "output_type": "execute_result"
    }
   ],
   "source": [
    "#Airport Traffic, feature inclusion\n",
    "df_passengers = pd.read_csv('passengers.csv')\n",
    "df_passengers = df_passengers.groupby(['origin_airport_id'])[['passengers']].agg('sum')\n",
    "df_passengers = df_passengers.sort_values(by=['passengers'],ascending=False).reset_index()\n",
    "df_passengers.head(10)"
   ]
  },
  {
   "cell_type": "code",
   "execution_count": 15,
   "metadata": {},
   "outputs": [
    {
     "data": {
      "text/html": [
       "<div>\n",
       "<style scoped>\n",
       "    .dataframe tbody tr th:only-of-type {\n",
       "        vertical-align: middle;\n",
       "    }\n",
       "\n",
       "    .dataframe tbody tr th {\n",
       "        vertical-align: top;\n",
       "    }\n",
       "\n",
       "    .dataframe thead th {\n",
       "        text-align: right;\n",
       "    }\n",
       "</style>\n",
       "<table border=\"1\" class=\"dataframe\">\n",
       "  <thead>\n",
       "    <tr style=\"text-align: right;\">\n",
       "      <th></th>\n",
       "      <th>origin_airport_id</th>\n",
       "      <th>passengers</th>\n",
       "      <th>mean</th>\n",
       "    </tr>\n",
       "  </thead>\n",
       "  <tbody>\n",
       "    <tr>\n",
       "      <th>0</th>\n",
       "      <td>13930</td>\n",
       "      <td>7580294</td>\n",
       "      <td>27.240010</td>\n",
       "    </tr>\n",
       "    <tr>\n",
       "      <th>1</th>\n",
       "      <td>11292</td>\n",
       "      <td>7285747</td>\n",
       "      <td>26.181546</td>\n",
       "    </tr>\n",
       "    <tr>\n",
       "      <th>2</th>\n",
       "      <td>10397</td>\n",
       "      <td>6779152</td>\n",
       "      <td>24.361082</td>\n",
       "    </tr>\n",
       "    <tr>\n",
       "      <th>3</th>\n",
       "      <td>12266</td>\n",
       "      <td>5465448</td>\n",
       "      <td>19.640248</td>\n",
       "    </tr>\n",
       "    <tr>\n",
       "      <th>4</th>\n",
       "      <td>12892</td>\n",
       "      <td>5080153</td>\n",
       "      <td>18.255679</td>\n",
       "    </tr>\n",
       "    <tr>\n",
       "      <th>5</th>\n",
       "      <td>13487</td>\n",
       "      <td>4848615</td>\n",
       "      <td>17.423641</td>\n",
       "    </tr>\n",
       "    <tr>\n",
       "      <th>6</th>\n",
       "      <td>11433</td>\n",
       "      <td>4735339</td>\n",
       "      <td>17.016580</td>\n",
       "    </tr>\n",
       "    <tr>\n",
       "      <th>7</th>\n",
       "      <td>12478</td>\n",
       "      <td>4282239</td>\n",
       "      <td>15.388352</td>\n",
       "    </tr>\n",
       "    <tr>\n",
       "      <th>8</th>\n",
       "      <td>14107</td>\n",
       "      <td>4281457</td>\n",
       "      <td>15.385542</td>\n",
       "    </tr>\n",
       "    <tr>\n",
       "      <th>9</th>\n",
       "      <td>11618</td>\n",
       "      <td>4280150</td>\n",
       "      <td>15.380845</td>\n",
       "    </tr>\n",
       "  </tbody>\n",
       "</table>\n",
       "</div>"
      ],
      "text/plain": [
       "   origin_airport_id  passengers       mean\n",
       "0              13930     7580294  27.240010\n",
       "1              11292     7285747  26.181546\n",
       "2              10397     6779152  24.361082\n",
       "3              12266     5465448  19.640248\n",
       "4              12892     5080153  18.255679\n",
       "5              13487     4848615  17.423641\n",
       "6              11433     4735339  17.016580\n",
       "7              12478     4282239  15.388352\n",
       "8              14107     4281457  15.385542\n",
       "9              11618     4280150  15.380845"
      ]
     },
     "execution_count": 15,
     "metadata": {},
     "output_type": "execute_result"
    }
   ],
   "source": [
    "df_passengers['mean'] = df_passengers['passengers']/df_passengers['passengers'].mean()\n",
    "df_passengers.head(10)"
   ]
  },
  {
   "cell_type": "code",
   "execution_count": 16,
   "metadata": {},
   "outputs": [],
   "source": [
    "df_flights = pd.merge(df_flights,df_passengers,how = \"left\", on = \"origin_airport_id\").dropna()\n",
    "#df_flights = pd.concat([df_flights, mrkt_df], axis=1, verify_integrity=True).dropna()"
   ]
  },
  {
   "cell_type": "code",
   "execution_count": 17,
   "metadata": {},
   "outputs": [
    {
     "data": {
      "text/html": [
       "<div>\n",
       "<style scoped>\n",
       "    .dataframe tbody tr th:only-of-type {\n",
       "        vertical-align: middle;\n",
       "    }\n",
       "\n",
       "    .dataframe tbody tr th {\n",
       "        vertical-align: top;\n",
       "    }\n",
       "\n",
       "    .dataframe thead th {\n",
       "        text-align: right;\n",
       "    }\n",
       "</style>\n",
       "<table border=\"1\" class=\"dataframe\">\n",
       "  <thead>\n",
       "    <tr style=\"text-align: right;\">\n",
       "      <th></th>\n",
       "      <th>fl_date</th>\n",
       "      <th>mkt_unique_carrier</th>\n",
       "      <th>mkt_carrier_fl_num</th>\n",
       "      <th>op_carrier_fl_num</th>\n",
       "      <th>origin_airport_id</th>\n",
       "      <th>origin</th>\n",
       "      <th>origin_city_name</th>\n",
       "      <th>dest_airport_id</th>\n",
       "      <th>dest</th>\n",
       "      <th>crs_dep_time</th>\n",
       "      <th>...</th>\n",
       "      <th>crs_arr_time</th>\n",
       "      <th>arr_time</th>\n",
       "      <th>arr_delay</th>\n",
       "      <th>crs_elapsed_time</th>\n",
       "      <th>actual_elapsed_time</th>\n",
       "      <th>air_time</th>\n",
       "      <th>distance</th>\n",
       "      <th>unix_date</th>\n",
       "      <th>passengers</th>\n",
       "      <th>mean</th>\n",
       "    </tr>\n",
       "  </thead>\n",
       "  <tbody>\n",
       "    <tr>\n",
       "      <th>0</th>\n",
       "      <td>2018-10-10</td>\n",
       "      <td>1</td>\n",
       "      <td>1</td>\n",
       "      <td>1</td>\n",
       "      <td>11278</td>\n",
       "      <td>54</td>\n",
       "      <td>Washington, DC</td>\n",
       "      <td>14747</td>\n",
       "      <td>200</td>\n",
       "      <td>800</td>\n",
       "      <td>...</td>\n",
       "      <td>1100</td>\n",
       "      <td>1013.0</td>\n",
       "      <td>-47.0</td>\n",
       "      <td>360</td>\n",
       "      <td>321.0</td>\n",
       "      <td>294.0</td>\n",
       "      <td>2329</td>\n",
       "      <td>1539129600</td>\n",
       "      <td>1670421.0</td>\n",
       "      <td>6.002707</td>\n",
       "    </tr>\n",
       "    <tr>\n",
       "      <th>1</th>\n",
       "      <td>2018-11-11</td>\n",
       "      <td>5</td>\n",
       "      <td>2</td>\n",
       "      <td>2</td>\n",
       "      <td>12889</td>\n",
       "      <td>116</td>\n",
       "      <td>Las Vegas, NV</td>\n",
       "      <td>11638</td>\n",
       "      <td>70</td>\n",
       "      <td>1508</td>\n",
       "      <td>...</td>\n",
       "      <td>1619</td>\n",
       "      <td>1604.0</td>\n",
       "      <td>-15.0</td>\n",
       "      <td>71</td>\n",
       "      <td>68.0</td>\n",
       "      <td>45.0</td>\n",
       "      <td>259</td>\n",
       "      <td>1541894400</td>\n",
       "      <td>4247530.0</td>\n",
       "      <td>15.263624</td>\n",
       "    </tr>\n",
       "    <tr>\n",
       "      <th>2</th>\n",
       "      <td>2019-05-26</td>\n",
       "      <td>5</td>\n",
       "      <td>2</td>\n",
       "      <td>2</td>\n",
       "      <td>12889</td>\n",
       "      <td>116</td>\n",
       "      <td>Las Vegas, NV</td>\n",
       "      <td>10408</td>\n",
       "      <td>12</td>\n",
       "      <td>2355</td>\n",
       "      <td>...</td>\n",
       "      <td>600</td>\n",
       "      <td>537.0</td>\n",
       "      <td>-23.0</td>\n",
       "      <td>245</td>\n",
       "      <td>227.0</td>\n",
       "      <td>208.0</td>\n",
       "      <td>1510</td>\n",
       "      <td>1558828800</td>\n",
       "      <td>4247530.0</td>\n",
       "      <td>15.263624</td>\n",
       "    </tr>\n",
       "  </tbody>\n",
       "</table>\n",
       "<p>3 rows × 25 columns</p>\n",
       "</div>"
      ],
      "text/plain": [
       "      fl_date  mkt_unique_carrier  mkt_carrier_fl_num  op_carrier_fl_num  \\\n",
       "0  2018-10-10                   1                   1                  1   \n",
       "1  2018-11-11                   5                   2                  2   \n",
       "2  2019-05-26                   5                   2                  2   \n",
       "\n",
       "   origin_airport_id  origin origin_city_name  dest_airport_id  dest  \\\n",
       "0              11278      54   Washington, DC            14747   200   \n",
       "1              12889     116    Las Vegas, NV            11638    70   \n",
       "2              12889     116    Las Vegas, NV            10408    12   \n",
       "\n",
       "   crs_dep_time  ...  crs_arr_time  arr_time  arr_delay  crs_elapsed_time  \\\n",
       "0           800  ...          1100    1013.0      -47.0               360   \n",
       "1          1508  ...          1619    1604.0      -15.0                71   \n",
       "2          2355  ...           600     537.0      -23.0               245   \n",
       "\n",
       "   actual_elapsed_time  air_time  distance   unix_date  passengers       mean  \n",
       "0                321.0     294.0      2329  1539129600   1670421.0   6.002707  \n",
       "1                 68.0      45.0       259  1541894400   4247530.0  15.263624  \n",
       "2                227.0     208.0      1510  1558828800   4247530.0  15.263624  \n",
       "\n",
       "[3 rows x 25 columns]"
      ]
     },
     "execution_count": 17,
     "metadata": {},
     "output_type": "execute_result"
    }
   ],
   "source": [
    "df_flights.head(3)"
   ]
  },
  {
   "cell_type": "code",
   "execution_count": 18,
   "metadata": {},
   "outputs": [],
   "source": [
    "#Convert datetime to hour, month and day \n",
    "df_flights['datetime'] = pd.to_datetime(df_flights.fl_date)\n",
    "df_flights['day'] = df_flights['datetime'].dt.day\n",
    "df_flights['month'] = df_flights['datetime'].dt.month\n",
    "df_flights['year'] = df_flights['datetime'].dt.year"
   ]
  },
  {
   "cell_type": "markdown",
   "metadata": {},
   "source": [
    "### Feature Selection / Dimensionality Reduction"
   ]
  },
  {
   "cell_type": "markdown",
   "metadata": {},
   "source": [
    "We need to apply different selection techniques to find out which one will be the best for our problems.\n",
    "\n",
    "- Original Features vs. PCA conponents?"
   ]
  },
  {
   "cell_type": "code",
   "execution_count": 19,
   "metadata": {},
   "outputs": [
    {
     "data": {
      "text/plain": [
       "<AxesSubplot:>"
      ]
     },
     "execution_count": 19,
     "metadata": {},
     "output_type": "execute_result"
    },
    {
     "data": {
      "image/png": "[encoded data removed]",
      "text/plain": [
       "<Figure size 1080x432 with 2 Axes>"
      ]
     },
     "metadata": {
      "needs_background": "light"
     },
     "output_type": "display_data"
    }
   ],
   "source": [
    "#Feature Selection\n",
    "#Checking for correlatiobn between features.\n",
    "sns.heatmap(df_flights.corr())"
   ]
  },
  {
   "cell_type": "code",
   "execution_count": 20,
   "metadata": {},
   "outputs": [
    {
     "name": "stdout",
     "output_type": "stream",
     "text": [
      "               Specs         Score\n",
      "20        passengers  1.347744e+09\n",
      "19         unix_date  1.361190e+08\n",
      "18          distance  2.546102e+06\n",
      "8           dep_time  8.634091e+05\n",
      "10        wheels_off  8.534938e+05\n",
      "7       crs_dep_time  5.360602e+05\n",
      "11         wheels_on  4.335217e+05\n",
      "13      crs_arr_time  4.302145e+05\n",
      "14          arr_time  4.020535e+05\n",
      "15  crs_elapsed_time  3.034180e+05\n"
     ]
    }
   ],
   "source": [
    "#Feature Selection\n",
    "#Univariate Selection for better indication of which features to use.\n",
    "#Statistical tests can be used to select those features that have the strongest relationship with the output variable.\n",
    "\n",
    "X = df_flights.drop(['arr_delay','fl_date','origin_city_name','datetime'],axis=1)  #independent columns\n",
    "y = df_flights['arr_delay']   #target column i.e price range\n",
    "\n",
    "#apply SelectKBest class to extract top 10 best features\n",
    "bestfeatures = SelectKBest(score_func=chi2, k=10)\n",
    "fit = bestfeatures.fit(X,y)\n",
    "dfscores = pd.DataFrame(fit.scores_)\n",
    "dfcolumns = pd.DataFrame(X.columns)\n",
    "\n",
    "#concat two dataframes for better visualization \n",
    "featureScores = pd.concat([dfcolumns,dfscores],axis=1)\n",
    "featureScores.columns = ['Specs','Score']  #naming the dataframe columns\n",
    "print(featureScores.nlargest(10,'Score'))  #print 10 best features"
   ]
  },
  {
   "cell_type": "code",
   "execution_count": 70,
   "metadata": {},
   "outputs": [],
   "source": [
    "#Features for good LG score\n",
    "X = df_flights[['passengers','unix_date','distance','dep_time','wheels_off','crs_dep_time','wheels_on','crs_arr_time','arr_time','crs_elapsed_time']]\n",
    "y = df_flights['arr_delay']"
   ]
  },
  {
   "cell_type": "code",
   "execution_count": 23,
   "metadata": {},
   "outputs": [],
   "source": [
    "X_train, X_test, y_train, y_test = train_test_split(X,y,test_size=0.3,random_state=200)"
   ]
  },
  {
   "cell_type": "code",
   "execution_count": 24,
   "metadata": {},
   "outputs": [
    {
     "name": "stdout",
     "output_type": "stream",
     "text": [
      "(75637, 7)\n"
     ]
    }
   ],
   "source": [
    "print(X_train.shape)"
   ]
  },
  {
   "cell_type": "code",
   "execution_count": 25,
   "metadata": {},
   "outputs": [
    {
     "name": "stdout",
     "output_type": "stream",
     "text": [
      "(75637,)\n"
     ]
    }
   ],
   "source": [
    "print(y_train.shape)"
   ]
  },
  {
   "cell_type": "code",
   "execution_count": 26,
   "metadata": {},
   "outputs": [
    {
     "data": {
      "text/html": [
       "<div>\n",
       "<style scoped>\n",
       "    .dataframe tbody tr th:only-of-type {\n",
       "        vertical-align: middle;\n",
       "    }\n",
       "\n",
       "    .dataframe tbody tr th {\n",
       "        vertical-align: top;\n",
       "    }\n",
       "\n",
       "    .dataframe thead th {\n",
       "        text-align: right;\n",
       "    }\n",
       "</style>\n",
       "<table border=\"1\" class=\"dataframe\">\n",
       "  <thead>\n",
       "    <tr style=\"text-align: right;\">\n",
       "      <th></th>\n",
       "      <th>unix_date</th>\n",
       "      <th>origin_airport_id</th>\n",
       "      <th>dest_airport_id</th>\n",
       "      <th>crs_dep_time</th>\n",
       "      <th>crs_arr_time</th>\n",
       "      <th>crs_elapsed_time</th>\n",
       "      <th>distance</th>\n",
       "    </tr>\n",
       "  </thead>\n",
       "  <tbody>\n",
       "    <tr>\n",
       "      <th>44628</th>\n",
       "      <td>1535328000</td>\n",
       "      <td>12892</td>\n",
       "      <td>14831</td>\n",
       "      <td>1220</td>\n",
       "      <td>1335</td>\n",
       "      <td>75</td>\n",
       "      <td>308</td>\n",
       "    </tr>\n",
       "    <tr>\n",
       "      <th>76605</th>\n",
       "      <td>1575072000</td>\n",
       "      <td>14107</td>\n",
       "      <td>14057</td>\n",
       "      <td>1320</td>\n",
       "      <td>1509</td>\n",
       "      <td>169</td>\n",
       "      <td>1009</td>\n",
       "    </tr>\n",
       "    <tr>\n",
       "      <th>21145</th>\n",
       "      <td>1571184000</td>\n",
       "      <td>14107</td>\n",
       "      <td>14869</td>\n",
       "      <td>1235</td>\n",
       "      <td>1515</td>\n",
       "      <td>100</td>\n",
       "      <td>507</td>\n",
       "    </tr>\n",
       "    <tr>\n",
       "      <th>68002</th>\n",
       "      <td>1564012800</td>\n",
       "      <td>14869</td>\n",
       "      <td>11292</td>\n",
       "      <td>2120</td>\n",
       "      <td>2252</td>\n",
       "      <td>92</td>\n",
       "      <td>391</td>\n",
       "    </tr>\n",
       "    <tr>\n",
       "      <th>64841</th>\n",
       "      <td>1533945600</td>\n",
       "      <td>14679</td>\n",
       "      <td>11292</td>\n",
       "      <td>852</td>\n",
       "      <td>1215</td>\n",
       "      <td>143</td>\n",
       "      <td>853</td>\n",
       "    </tr>\n",
       "  </tbody>\n",
       "</table>\n",
       "</div>"
      ],
      "text/plain": [
       "        unix_date  origin_airport_id  dest_airport_id  crs_dep_time  \\\n",
       "44628  1535328000              12892            14831          1220   \n",
       "76605  1575072000              14107            14057          1320   \n",
       "21145  1571184000              14107            14869          1235   \n",
       "68002  1564012800              14869            11292          2120   \n",
       "64841  1533945600              14679            11292           852   \n",
       "\n",
       "       crs_arr_time  crs_elapsed_time  distance  \n",
       "44628          1335                75       308  \n",
       "76605          1509               169      1009  \n",
       "21145          1515               100       507  \n",
       "68002          2252                92       391  \n",
       "64841          1215               143       853  "
      ]
     },
     "execution_count": 26,
     "metadata": {},
     "output_type": "execute_result"
    }
   ],
   "source": [
    "X_train[0:5]"
   ]
  },
  {
   "cell_type": "code",
   "execution_count": 27,
   "metadata": {},
   "outputs": [],
   "source": [
    "#PCA Components\n",
    "demo_df = df_flights[['origin_airport_id','dest_airport_id','crs_dep_time','wheels_off','crs_arr_time','distance','unix_date','mean','mkt_unique_carrier','day','month','year','arr_delay']]"
   ]
  },
  {
   "cell_type": "code",
   "execution_count": 28,
   "metadata": {},
   "outputs": [],
   "source": [
    "#Scale Data\n",
    "ss = StandardScaler()\n",
    "scaled_df = ss.fit_transform(demo_df)"
   ]
  },
  {
   "cell_type": "code",
   "execution_count": 29,
   "metadata": {},
   "outputs": [],
   "source": [
    "#Scaling PCA Componenent\n",
    "pca = PCA(n_components=2)\n",
    "X_pca = pca.fit_transform(scaled_df)\n",
    "components = pca.components_"
   ]
  },
  {
   "cell_type": "code",
   "execution_count": 30,
   "metadata": {},
   "outputs": [
    {
     "data": {
      "image/png": "[encoded data removed]",
      "text/plain": [
       "<Figure size 2160x720 with 1 Axes>"
      ]
     },
     "metadata": {
      "needs_background": "light"
     },
     "output_type": "display_data"
    }
   ],
   "source": [
    "#PCA Scatter Plot\n",
    "plt.rcParams[\"figure.figsize\"] = (30,10)\n",
    "fig, ax = plt.subplots(1,1)\n",
    "ax.set_title(\"PCA Demographic Plot\")\n",
    "ax.scatter(components[0], components[1])\n",
    "\n",
    "for i, txt in enumerate(demo_df.columns.to_list()):\n",
    "    ax.annotate(txt, (components[0][i], components[1][i]), xytext=(8,0), textcoords='offset points')\n",
    "    \n",
    "fig.savefig('PCA_components')"
   ]
  },
  {
   "cell_type": "markdown",
   "metadata": {},
   "source": [
    "### Modeling"
   ]
  },
  {
   "cell_type": "markdown",
   "metadata": {},
   "source": [
    "Use different ML techniques to predict each problem.\n",
    "\n",
    "- linear / logistic / multinomial logistic regression\n",
    "- Naive Bayes\n",
    "- Random Forest\n",
    "- SVM\n",
    "- XGBoost\n",
    "- The ensemble of your own choice"
   ]
  },
  {
   "cell_type": "markdown",
   "metadata": {},
   "source": [
    "### Multinomial logistic regression"
   ]
  },
  {
   "cell_type": "code",
   "execution_count": 31,
   "metadata": {},
   "outputs": [
    {
     "data": {
      "text/plain": [
       "LogisticRegression(solver='liblinear')"
      ]
     },
     "execution_count": 31,
     "metadata": {},
     "output_type": "execute_result"
    }
   ],
   "source": [
    "#Multinomial logistic regression\n",
    "LogReg = LogisticRegression(solver='liblinear')\n",
    "LogReg.fit(X_train, y_train)"
   ]
  },
  {
   "cell_type": "code",
   "execution_count": 32,
   "metadata": {},
   "outputs": [],
   "source": [
    "y_pred = LogReg.predict(X_test)"
   ]
  },
  {
   "cell_type": "code",
   "execution_count": 33,
   "metadata": {},
   "outputs": [
    {
     "name": "stdout",
     "output_type": "stream",
     "text": [
      "Feature: 0, Score: -0.0000000073\n",
      "Feature: 1, Score: -0.0000000000\n",
      "Feature: 2, Score: -0.0000000000\n",
      "Feature: 3, Score: -0.0000000000\n",
      "Feature: 4, Score: -0.0000000000\n",
      "Feature: 5, Score: -0.0000000000\n",
      "Feature: 6, Score: -0.0000000000\n"
     ]
    },
    {
     "data": {
      "image/png": "[encoded data removed]",
      "text/plain": [
       "<Figure size 2160x720 with 1 Axes>"
      ]
     },
     "metadata": {
      "needs_background": "light"
     },
     "output_type": "display_data"
    }
   ],
   "source": [
    "# get importance\n",
    "importance = LogReg.coef_[0]\n",
    "# summarize feature importance\n",
    "for i,v in enumerate(importance):\n",
    "    print('Feature: %0d, Score: %.10f' % (i,v))\n",
    "# plot feature importance\n",
    "plt.bar([x for x in range(len(importance))], importance)\n",
    "plt.show()"
   ]
  },
  {
   "cell_type": "markdown",
   "metadata": {},
   "source": [
    "##### Print Classification Report if required"
   ]
  },
  {
   "cell_type": "code",
   "execution_count": 34,
   "metadata": {},
   "outputs": [],
   "source": [
    "#print(classification_report(y_test, y_pred))"
   ]
  },
  {
   "cell_type": "code",
   "execution_count": 35,
   "metadata": {},
   "outputs": [
    {
     "data": {
      "text/plain": [
       "-0.10519415772068741"
      ]
     },
     "execution_count": 35,
     "metadata": {},
     "output_type": "execute_result"
    }
   ],
   "source": [
    "r2_score(y_test,y_pred)"
   ]
  },
  {
   "cell_type": "markdown",
   "metadata": {},
   "source": [
    "### Random Forest"
   ]
  },
  {
   "cell_type": "code",
   "execution_count": 51,
   "metadata": {
    "tags": []
   },
   "outputs": [],
   "source": [
    "X_rf = df_flights[['passengers','unix_date','distance','dep_time','wheels_off','crs_dep_time','wheels_on','crs_arr_time','arr_time','crs_elapsed_time']]\n",
    "y_rf = df_flights['arr_delay']"
   ]
  },
  {
   "cell_type": "code",
   "execution_count": 52,
   "metadata": {},
   "outputs": [],
   "source": [
    "X_train, X_test, y_train, y_test = train_test_split(X_rf,y_rf,test_size=0.3,random_state=200)"
   ]
  },
  {
   "cell_type": "code",
   "execution_count": 36,
   "metadata": {},
   "outputs": [],
   "source": [
    "# instantiate the classifier \n",
    "rfc = RandomForestClassifier(random_state=0)\n",
    "\n",
    "# fit the model\n",
    "rfc.fit(X_train, y_train)\n",
    "\n",
    "# Predict the Test set results\n",
    "y_pred = rfc.predict(X_test)"
   ]
  },
  {
   "cell_type": "code",
   "execution_count": 37,
   "metadata": {},
   "outputs": [
    {
     "name": "stdout",
     "output_type": "stream",
     "text": [
      "Model accuracy score with 10 decision-trees : 0.0216\n"
     ]
    }
   ],
   "source": [
    "# Check accuracy score \n",
    "print('Model accuracy score with 10 decision-trees : {0:0.4f}'. format(accuracy_score(y_test, y_pred)))"
   ]
  },
  {
   "cell_type": "code",
   "execution_count": 38,
   "metadata": {},
   "outputs": [],
   "source": [
    "# instantiate the classifier with n_estimators = 20\n",
    "rfc_20 = RandomForestClassifier(n_estimators=20, random_state=0)\n",
    "\n",
    "# fit the model to the training set\n",
    "rfc_20.fit(X_train, y_train)\n",
    "\n",
    "# Predict on the test set results\n",
    "y_pred_20 = rfc_20.predict(X_test)"
   ]
  },
  {
   "cell_type": "code",
   "execution_count": 39,
   "metadata": {},
   "outputs": [
    {
     "name": "stdout",
     "output_type": "stream",
     "text": [
      "Model accuracy score with 20 decision-trees : 0.0217\n"
     ]
    }
   ],
   "source": [
    "# Check accuracy score \n",
    "print('Model accuracy score with 20 decision-trees : {0:0.4f}'. format(accuracy_score(y_test, y_pred_20)))"
   ]
  },
  {
   "cell_type": "code",
   "execution_count": 40,
   "metadata": {},
   "outputs": [
    {
     "data": {
      "text/plain": [
       "unix_date            0.366878\n",
       "crs_arr_time         0.146374\n",
       "crs_dep_time         0.131204\n",
       "crs_elapsed_time     0.126381\n",
       "distance             0.083802\n",
       "dest_airport_id      0.072693\n",
       "origin_airport_id    0.072668\n",
       "dtype: float64"
      ]
     },
     "execution_count": 40,
     "metadata": {},
     "output_type": "execute_result"
    }
   ],
   "source": [
    "# View the feature scores\n",
    "feature_scores = pd.Series(rfc_20.feature_importances_, index=X_train.columns).sort_values(ascending=False)\n",
    "feature_scores"
   ]
  },
  {
   "cell_type": "markdown",
   "metadata": {},
   "source": [
    "##### Print Classification Report if required"
   ]
  },
  {
   "cell_type": "code",
   "execution_count": 41,
   "metadata": {},
   "outputs": [],
   "source": [
    "#print(classification_report(y_test, y_pred))"
   ]
  },
  {
   "cell_type": "code",
   "execution_count": 42,
   "metadata": {},
   "outputs": [
    {
     "data": {
      "text/plain": [
       "-0.8539690042452053"
      ]
     },
     "execution_count": 42,
     "metadata": {},
     "output_type": "execute_result"
    }
   ],
   "source": [
    "r2_score(y_test,y_pred)"
   ]
  },
  {
   "cell_type": "markdown",
   "metadata": {},
   "source": [
    "### Naive Bayes"
   ]
  },
  {
   "cell_type": "code",
   "execution_count": 62,
   "metadata": {},
   "outputs": [],
   "source": [
    "X_nb = df_flights[['passengers','unix_date','distance','dep_time','wheels_off','crs_dep_time','wheels_on','crs_arr_time','arr_time','crs_elapsed_time']]\n",
    "y_nb = df_flights['arr_delay']"
   ]
  },
  {
   "cell_type": "code",
   "execution_count": 63,
   "metadata": {},
   "outputs": [],
   "source": [
    "X_train, X_test, y_train, y_test = train_test_split(X_nb,y_nb,test_size=0.3,random_state=200)"
   ]
  },
  {
   "cell_type": "code",
   "execution_count": 64,
   "metadata": {},
   "outputs": [],
   "source": [
    "#Inititate Classifier\n",
    "clf = GaussianNB()"
   ]
  },
  {
   "cell_type": "code",
   "execution_count": 65,
   "metadata": {},
   "outputs": [
    {
     "data": {
      "text/plain": [
       "GaussianNB()"
      ]
     },
     "execution_count": 65,
     "metadata": {},
     "output_type": "execute_result"
    }
   ],
   "source": [
    "#Train the model using the training set\n",
    "clf.fit(X_train,y_train)"
   ]
  },
  {
   "cell_type": "code",
   "execution_count": 66,
   "metadata": {},
   "outputs": [],
   "source": [
    "#Predict the response on the testing data set\n",
    "y_pred = clf.predict(X_test)"
   ]
  },
  {
   "cell_type": "code",
   "execution_count": 67,
   "metadata": {},
   "outputs": [
    {
     "data": {
      "text/plain": [
       "0.027147087857847977"
      ]
     },
     "execution_count": 67,
     "metadata": {},
     "output_type": "execute_result"
    }
   ],
   "source": [
    "accuracy_score(y_test, y_pred, normalize=True)"
   ]
  },
  {
   "cell_type": "code",
   "execution_count": 68,
   "metadata": {},
   "outputs": [
    {
     "data": {
      "text/plain": [
       "-1.7536624611776737"
      ]
     },
     "execution_count": 68,
     "metadata": {},
     "output_type": "execute_result"
    }
   ],
   "source": [
    "r2_score(y_test,y_pred)"
   ]
  },
  {
   "cell_type": "markdown",
   "metadata": {},
   "source": [
    "##### Print Classification Report if required"
   ]
  },
  {
   "cell_type": "code",
   "execution_count": 69,
   "metadata": {
    "tags": []
   },
   "outputs": [],
   "source": [
    "#print(classification_report(y_test, y_pred))"
   ]
  },
  {
   "cell_type": "markdown",
   "metadata": {
    "tags": []
   },
   "source": [
    "### SVM"
   ]
  },
  {
   "cell_type": "code",
   "execution_count": 70,
   "metadata": {},
   "outputs": [],
   "source": [
    "X_svm = df_flights[['passengers','unix_date','distance','dep_time','wheels_off','crs_dep_time','wheels_on','crs_arr_time','arr_time','crs_elapsed_time']]\n",
    "y_svm = df_flights['arr_delay']"
   ]
  },
  {
   "cell_type": "code",
   "execution_count": 71,
   "metadata": {},
   "outputs": [],
   "source": [
    "X_train, X_test, y_train, y_test = train_test_split(X_svm,y_svm,test_size=0.3,random_state=200)"
   ]
  },
  {
   "cell_type": "code",
   "execution_count": 72,
   "metadata": {},
   "outputs": [],
   "source": [
    "#Import SVC \n",
    "clf = svm.SVC(kernel='poly')"
   ]
  },
  {
   "cell_type": "code",
   "execution_count": 73,
   "metadata": {},
   "outputs": [
    {
     "data": {
      "text/plain": [
       "SVC(kernel='poly')"
      ]
     },
     "execution_count": 73,
     "metadata": {},
     "output_type": "execute_result"
    }
   ],
   "source": [
    "#Fit training data\n",
    "clf.fit(X_train, y_train)"
   ]
  },
  {
   "cell_type": "code",
   "execution_count": 74,
   "metadata": {},
   "outputs": [],
   "source": [
    "#Predict the test data set.\n",
    "y_pred = clf.predict(X_test)"
   ]
  },
  {
   "cell_type": "code",
   "execution_count": 75,
   "metadata": {},
   "outputs": [
    {
     "data": {
      "text/plain": [
       "0.02810340572556762"
      ]
     },
     "execution_count": 75,
     "metadata": {},
     "output_type": "execute_result"
    }
   ],
   "source": [
    "#Accuracy Score\n",
    "accuracy_score(y_test, y_pred)"
   ]
  },
  {
   "cell_type": "code",
   "execution_count": 76,
   "metadata": {},
   "outputs": [
    {
     "data": {
      "text/plain": [
       "-0.09158271694405329"
      ]
     },
     "execution_count": 76,
     "metadata": {},
     "output_type": "execute_result"
    }
   ],
   "source": [
    "r2_score(y_test,y_pred)"
   ]
  },
  {
   "cell_type": "markdown",
   "metadata": {},
   "source": [
    "##### Print Classification Report if required"
   ]
  },
  {
   "cell_type": "code",
   "execution_count": 108,
   "metadata": {},
   "outputs": [],
   "source": [
    "#print(classification_report(y_test, y_pred))"
   ]
  },
  {
   "cell_type": "markdown",
   "metadata": {
    "tags": []
   },
   "source": [
    "### XGBoost"
   ]
  },
  {
   "cell_type": "code",
   "execution_count": 77,
   "metadata": {},
   "outputs": [],
   "source": [
    "X_xgb = df_flights[['passengers','unix_date','distance','dep_time','wheels_off','crs_dep_time','wheels_on','crs_arr_time','arr_time','crs_elapsed_time']]\n",
    "y_xgb = df_flights['arr_delay']"
   ]
  },
  {
   "cell_type": "code",
   "execution_count": 78,
   "metadata": {},
   "outputs": [],
   "source": [
    "data_dmatrix = xgb.DMatrix(data=X_xgb,label=y_xgb)"
   ]
  },
  {
   "cell_type": "code",
   "execution_count": 79,
   "metadata": {},
   "outputs": [],
   "source": [
    "X_train, X_test, y_train, y_test = train_test_split(X_xgb,y_xgb,test_size=0.3,random_state=200)"
   ]
  },
  {
   "cell_type": "code",
   "execution_count": 54,
   "metadata": {},
   "outputs": [],
   "source": [
    "#Inititate Regressor\n",
    "xg_reg = xgb.XGBRegressor(objective ='reg:linear', colsample_bytree = 0.3, learning_rate = 0.1,\n",
    "                max_depth = 5, alpha = 10, n_estimators = 10)"
   ]
  },
  {
   "cell_type": "code",
   "execution_count": 55,
   "metadata": {},
   "outputs": [
    {
     "name": "stdout",
     "output_type": "stream",
     "text": [
      "[09:13:20] WARNING: /Users/runner/miniforge3/conda-bld/xgboost-split_1643226991592/work/src/objective/regression_obj.cu:188: reg:linear is now deprecated in favor of reg:squarederror.\n"
     ]
    },
    {
     "data": {
      "text/plain": [
       "XGBRegressor(alpha=10, base_score=0.5, booster='gbtree', colsample_bylevel=1,\n",
       "             colsample_bynode=1, colsample_bytree=0.3, enable_categorical=False,\n",
       "             gamma=0, gpu_id=-1, importance_type=None,\n",
       "             interaction_constraints='', learning_rate=0.1, max_delta_step=0,\n",
       "             max_depth=5, min_child_weight=1, missing=nan,\n",
       "             monotone_constraints='()', n_estimators=10, n_jobs=8,\n",
       "             num_parallel_tree=1, objective='reg:linear', predictor='auto',\n",
       "             random_state=0, reg_alpha=10, reg_lambda=1, scale_pos_weight=1,\n",
       "             subsample=1, tree_method='exact', validate_parameters=1,\n",
       "             verbosity=None)"
      ]
     },
     "execution_count": 55,
     "metadata": {},
     "output_type": "execute_result"
    }
   ],
   "source": [
    "#Fit model\n",
    "xg_reg.fit(X_train,y_train)"
   ]
  },
  {
   "cell_type": "code",
   "execution_count": 56,
   "metadata": {},
   "outputs": [],
   "source": [
    "#Predict the test data set.\n",
    "preds = xg_reg.predict(X_test)"
   ]
  },
  {
   "cell_type": "code",
   "execution_count": 57,
   "metadata": {},
   "outputs": [
    {
     "name": "stdout",
     "output_type": "stream",
     "text": [
      "RMSE: 45.747583\n"
     ]
    }
   ],
   "source": [
    "#Mean squared error\n",
    "rmse = np.sqrt(mean_squared_error(y_test, preds))\n",
    "print(\"RMSE: %f\" % (rmse))"
   ]
  },
  {
   "cell_type": "code",
   "execution_count": 58,
   "metadata": {},
   "outputs": [
    {
     "data": {
      "text/plain": [
       "0.01358223798405822"
      ]
     },
     "execution_count": 58,
     "metadata": {},
     "output_type": "execute_result"
    }
   ],
   "source": [
    "r2_score(y_test,preds)"
   ]
  },
  {
   "cell_type": "code",
   "execution_count": 59,
   "metadata": {},
   "outputs": [
    {
     "data": {
      "text/plain": [
       "<AxesSubplot:>"
      ]
     },
     "execution_count": 59,
     "metadata": {},
     "output_type": "execute_result"
    },
    {
     "data": {
      "image/png": "[encoded data removed]",
      "text/plain": [
       "<Figure size 5760x720 with 1 Axes>"
      ]
     },
     "metadata": {
      "needs_background": "light"
     },
     "output_type": "display_data"
    }
   ],
   "source": [
    "#Plot Tree\n",
    "plt.rcParams['figure.figsize'] = [80, 10]\n",
    "plot_tree(xg_reg,num_trees=0)"
   ]
  },
  {
   "cell_type": "markdown",
   "metadata": {},
   "source": [
    "### Gradient Boosting"
   ]
  },
  {
   "cell_type": "code",
   "execution_count": 110,
   "metadata": {},
   "outputs": [],
   "source": [
    "X_gb = df_flights[['passengers','unix_date','distance','dep_time','wheels_off','crs_dep_time','wheels_on','crs_arr_time','arr_time','crs_elapsed_time']]\n",
    "y_gb = df_flights['arr_delay']"
   ]
  },
  {
   "cell_type": "code",
   "execution_count": 111,
   "metadata": {},
   "outputs": [],
   "source": [
    "X_train, X_test, y_train, y_test = train_test_split(X_gb,y_gb,test_size=0.3,random_state=200)"
   ]
  },
  {
   "cell_type": "code",
   "execution_count": 114,
   "metadata": {},
   "outputs": [],
   "source": [
    "#Inititate classifier\n",
    "clf = GradientBoostingClassifier(n_estimators=10, learning_rate=1.0, max_depth=1, random_state=1)"
   ]
  },
  {
   "cell_type": "code",
   "execution_count": 115,
   "metadata": {},
   "outputs": [
    {
     "data": {
      "text/plain": [
       "GradientBoostingClassifier(learning_rate=1.0, max_depth=1, n_estimators=10,\n",
       "                           random_state=1)"
      ]
     },
     "execution_count": 115,
     "metadata": {},
     "output_type": "execute_result"
    }
   ],
   "source": [
    "#Fit the model\n",
    "clf.fit(X_train,y_train)"
   ]
  },
  {
   "cell_type": "code",
   "execution_count": 116,
   "metadata": {},
   "outputs": [],
   "source": [
    "#Predict Model\n",
    "y_pred = clf.predict(X_test)"
   ]
  },
  {
   "cell_type": "code",
   "execution_count": 117,
   "metadata": {},
   "outputs": [
    {
     "data": {
      "text/plain": [
       "0.002282823297137216"
      ]
     },
     "execution_count": 117,
     "metadata": {},
     "output_type": "execute_result"
    }
   ],
   "source": [
    "#Accuracy Score\n",
    "accuracy_score(y_test, y_pred)"
   ]
  },
  {
   "cell_type": "code",
   "execution_count": 118,
   "metadata": {},
   "outputs": [
    {
     "data": {
      "text/plain": [
       "-46.81612966103848"
      ]
     },
     "execution_count": 118,
     "metadata": {},
     "output_type": "execute_result"
    }
   ],
   "source": [
    "#R2 Score\n",
    "r2_score(y_test,y_pred)"
   ]
  },
  {
   "cell_type": "markdown",
   "metadata": {},
   "source": [
    "### Evaluation"
   ]
  },
  {
   "cell_type": "markdown",
   "metadata": {},
   "source": [
    "You have data from 2018 and 2019 to develop models. Use different evaluation metrics for each problem and compare the performance of different models.\n",
    "\n",
    "You are required to predict delays on **out of sample** data from **first 7 days (1st-7th) of January 2020** and to share the file with LighthouseLabs. Sample submission can be found in the file **_sample_submission.csv_**"
   ]
  },
  {
   "cell_type": "code",
   "execution_count": 60,
   "metadata": {},
   "outputs": [
    {
     "data": {
      "text/html": [
       "<div>\n",
       "<style scoped>\n",
       "    .dataframe tbody tr th:only-of-type {\n",
       "        vertical-align: middle;\n",
       "    }\n",
       "\n",
       "    .dataframe tbody tr th {\n",
       "        vertical-align: top;\n",
       "    }\n",
       "\n",
       "    .dataframe thead th {\n",
       "        text-align: right;\n",
       "    }\n",
       "</style>\n",
       "<table border=\"1\" class=\"dataframe\">\n",
       "  <thead>\n",
       "    <tr style=\"text-align: right;\">\n",
       "      <th></th>\n",
       "      <th>fl_date</th>\n",
       "      <th>mkt_unique_carrier</th>\n",
       "      <th>branded_code_share</th>\n",
       "      <th>mkt_carrier</th>\n",
       "      <th>mkt_carrier_fl_num</th>\n",
       "      <th>op_unique_carrier</th>\n",
       "      <th>tail_num</th>\n",
       "      <th>op_carrier_fl_num</th>\n",
       "      <th>origin_airport_id</th>\n",
       "      <th>origin</th>\n",
       "      <th>origin_city_name</th>\n",
       "      <th>dest_airport_id</th>\n",
       "      <th>dest</th>\n",
       "      <th>dest_city_name</th>\n",
       "      <th>crs_dep_time</th>\n",
       "      <th>crs_arr_time</th>\n",
       "      <th>dup</th>\n",
       "      <th>crs_elapsed_time</th>\n",
       "      <th>flights</th>\n",
       "      <th>distance</th>\n",
       "    </tr>\n",
       "  </thead>\n",
       "  <tbody>\n",
       "    <tr>\n",
       "      <th>0</th>\n",
       "      <td>1577854800000</td>\n",
       "      <td>WN</td>\n",
       "      <td>WN</td>\n",
       "      <td>WN</td>\n",
       "      <td>5888</td>\n",
       "      <td>WN</td>\n",
       "      <td>N951WN</td>\n",
       "      <td>5888</td>\n",
       "      <td>13891</td>\n",
       "      <td>ONT</td>\n",
       "      <td>Ontario, CA</td>\n",
       "      <td>14771</td>\n",
       "      <td>SFO</td>\n",
       "      <td>San Francisco, CA</td>\n",
       "      <td>1810</td>\n",
       "      <td>1945</td>\n",
       "      <td>N</td>\n",
       "      <td>95</td>\n",
       "      <td>1</td>\n",
       "      <td>363</td>\n",
       "    </tr>\n",
       "  </tbody>\n",
       "</table>\n",
       "</div>"
      ],
      "text/plain": [
       "         fl_date mkt_unique_carrier branded_code_share mkt_carrier  \\\n",
       "0  1577854800000                 WN                 WN          WN   \n",
       "\n",
       "   mkt_carrier_fl_num op_unique_carrier tail_num  op_carrier_fl_num  \\\n",
       "0                5888                WN   N951WN               5888   \n",
       "\n",
       "   origin_airport_id origin origin_city_name  dest_airport_id dest  \\\n",
       "0              13891    ONT      Ontario, CA            14771  SFO   \n",
       "\n",
       "      dest_city_name  crs_dep_time  crs_arr_time dup  crs_elapsed_time  \\\n",
       "0  San Francisco, CA          1810          1945   N                95   \n",
       "\n",
       "   flights  distance  \n",
       "0        1       363  "
      ]
     },
     "execution_count": 60,
     "metadata": {},
     "output_type": "execute_result"
    }
   ],
   "source": [
    "df_fl_test = pd.read_csv('flights_test_V2.csv')\n",
    "df_fl_test.head(1)"
   ]
  },
  {
   "cell_type": "code",
   "execution_count": 61,
   "metadata": {},
   "outputs": [],
   "source": [
    "test = df_fl_test[['fl_date','mkt_carrier_fl_num','op_carrier_fl_num','origin_airport_id','dest_airport_id','crs_dep_time','crs_arr_time','crs_elapsed_time','flights','distance']]"
   ]
  },
  {
   "cell_type": "code",
   "execution_count": 62,
   "metadata": {},
   "outputs": [],
   "source": [
    "test = test.to_numpy()"
   ]
  },
  {
   "cell_type": "code",
   "execution_count": 63,
   "metadata": {},
   "outputs": [],
   "source": [
    "#Random Forest Model\n",
    "y_pred = xg_reg.predict(test)"
   ]
  },
  {
   "cell_type": "code",
   "execution_count": 64,
   "metadata": {},
   "outputs": [],
   "source": [
    "#[['passengers','unix_date','distance','dep_time','wheels_off','crs_dep_time','wheels_on','crs_arr_time','arr_time','crs_elapsed_time']]"
   ]
  },
  {
   "cell_type": "code",
   "execution_count": 65,
   "metadata": {},
   "outputs": [],
   "source": [
    "df_fl_test['predicted_delay']=pd.Series(y_pred)"
   ]
  },
  {
   "cell_type": "code",
   "execution_count": 66,
   "metadata": {},
   "outputs": [
    {
     "data": {
      "text/html": [
       "<div>\n",
       "<style scoped>\n",
       "    .dataframe tbody tr th:only-of-type {\n",
       "        vertical-align: middle;\n",
       "    }\n",
       "\n",
       "    .dataframe tbody tr th {\n",
       "        vertical-align: top;\n",
       "    }\n",
       "\n",
       "    .dataframe thead th {\n",
       "        text-align: right;\n",
       "    }\n",
       "</style>\n",
       "<table border=\"1\" class=\"dataframe\">\n",
       "  <thead>\n",
       "    <tr style=\"text-align: right;\">\n",
       "      <th></th>\n",
       "      <th>fl_date</th>\n",
       "      <th>mkt_unique_carrier</th>\n",
       "      <th>branded_code_share</th>\n",
       "      <th>mkt_carrier</th>\n",
       "      <th>mkt_carrier_fl_num</th>\n",
       "      <th>op_unique_carrier</th>\n",
       "      <th>tail_num</th>\n",
       "      <th>op_carrier_fl_num</th>\n",
       "      <th>origin_airport_id</th>\n",
       "      <th>origin</th>\n",
       "      <th>...</th>\n",
       "      <th>dest_airport_id</th>\n",
       "      <th>dest</th>\n",
       "      <th>dest_city_name</th>\n",
       "      <th>crs_dep_time</th>\n",
       "      <th>crs_arr_time</th>\n",
       "      <th>dup</th>\n",
       "      <th>crs_elapsed_time</th>\n",
       "      <th>flights</th>\n",
       "      <th>distance</th>\n",
       "      <th>predicted_delay</th>\n",
       "    </tr>\n",
       "  </thead>\n",
       "  <tbody>\n",
       "    <tr>\n",
       "      <th>0</th>\n",
       "      <td>1577854800000</td>\n",
       "      <td>WN</td>\n",
       "      <td>WN</td>\n",
       "      <td>WN</td>\n",
       "      <td>5888</td>\n",
       "      <td>WN</td>\n",
       "      <td>N951WN</td>\n",
       "      <td>5888</td>\n",
       "      <td>13891</td>\n",
       "      <td>ONT</td>\n",
       "      <td>...</td>\n",
       "      <td>14771</td>\n",
       "      <td>SFO</td>\n",
       "      <td>San Francisco, CA</td>\n",
       "      <td>1810</td>\n",
       "      <td>1945</td>\n",
       "      <td>N</td>\n",
       "      <td>95</td>\n",
       "      <td>1</td>\n",
       "      <td>363</td>\n",
       "      <td>5.023643</td>\n",
       "    </tr>\n",
       "    <tr>\n",
       "      <th>1</th>\n",
       "      <td>1577854800000</td>\n",
       "      <td>WN</td>\n",
       "      <td>WN</td>\n",
       "      <td>WN</td>\n",
       "      <td>6276</td>\n",
       "      <td>WN</td>\n",
       "      <td>N467WN</td>\n",
       "      <td>6276</td>\n",
       "      <td>13891</td>\n",
       "      <td>ONT</td>\n",
       "      <td>...</td>\n",
       "      <td>14771</td>\n",
       "      <td>SFO</td>\n",
       "      <td>San Francisco, CA</td>\n",
       "      <td>1150</td>\n",
       "      <td>1320</td>\n",
       "      <td>N</td>\n",
       "      <td>90</td>\n",
       "      <td>1</td>\n",
       "      <td>363</td>\n",
       "      <td>3.320382</td>\n",
       "    </tr>\n",
       "    <tr>\n",
       "      <th>2</th>\n",
       "      <td>1577854800000</td>\n",
       "      <td>WN</td>\n",
       "      <td>WN</td>\n",
       "      <td>WN</td>\n",
       "      <td>4598</td>\n",
       "      <td>WN</td>\n",
       "      <td>N7885A</td>\n",
       "      <td>4598</td>\n",
       "      <td>13891</td>\n",
       "      <td>ONT</td>\n",
       "      <td>...</td>\n",
       "      <td>14831</td>\n",
       "      <td>SJC</td>\n",
       "      <td>San Jose, CA</td>\n",
       "      <td>2020</td>\n",
       "      <td>2130</td>\n",
       "      <td>N</td>\n",
       "      <td>70</td>\n",
       "      <td>1</td>\n",
       "      <td>333</td>\n",
       "      <td>4.695590</td>\n",
       "    </tr>\n",
       "    <tr>\n",
       "      <th>3</th>\n",
       "      <td>1577854800000</td>\n",
       "      <td>WN</td>\n",
       "      <td>WN</td>\n",
       "      <td>WN</td>\n",
       "      <td>4761</td>\n",
       "      <td>WN</td>\n",
       "      <td>N551WN</td>\n",
       "      <td>4761</td>\n",
       "      <td>13891</td>\n",
       "      <td>ONT</td>\n",
       "      <td>...</td>\n",
       "      <td>14831</td>\n",
       "      <td>SJC</td>\n",
       "      <td>San Jose, CA</td>\n",
       "      <td>1340</td>\n",
       "      <td>1455</td>\n",
       "      <td>N</td>\n",
       "      <td>75</td>\n",
       "      <td>1</td>\n",
       "      <td>333</td>\n",
       "      <td>3.181036</td>\n",
       "    </tr>\n",
       "    <tr>\n",
       "      <th>4</th>\n",
       "      <td>1577854800000</td>\n",
       "      <td>WN</td>\n",
       "      <td>WN</td>\n",
       "      <td>WN</td>\n",
       "      <td>5162</td>\n",
       "      <td>WN</td>\n",
       "      <td>N968WN</td>\n",
       "      <td>5162</td>\n",
       "      <td>13891</td>\n",
       "      <td>ONT</td>\n",
       "      <td>...</td>\n",
       "      <td>14831</td>\n",
       "      <td>SJC</td>\n",
       "      <td>San Jose, CA</td>\n",
       "      <td>915</td>\n",
       "      <td>1035</td>\n",
       "      <td>N</td>\n",
       "      <td>80</td>\n",
       "      <td>1</td>\n",
       "      <td>333</td>\n",
       "      <td>1.068086</td>\n",
       "    </tr>\n",
       "    <tr>\n",
       "      <th>5</th>\n",
       "      <td>1577854800000</td>\n",
       "      <td>WN</td>\n",
       "      <td>WN</td>\n",
       "      <td>WN</td>\n",
       "      <td>5684</td>\n",
       "      <td>WN</td>\n",
       "      <td>N7856A</td>\n",
       "      <td>5684</td>\n",
       "      <td>13891</td>\n",
       "      <td>ONT</td>\n",
       "      <td>...</td>\n",
       "      <td>14831</td>\n",
       "      <td>SJC</td>\n",
       "      <td>San Jose, CA</td>\n",
       "      <td>600</td>\n",
       "      <td>715</td>\n",
       "      <td>N</td>\n",
       "      <td>75</td>\n",
       "      <td>1</td>\n",
       "      <td>333</td>\n",
       "      <td>0.580550</td>\n",
       "    </tr>\n",
       "    <tr>\n",
       "      <th>6</th>\n",
       "      <td>1577854800000</td>\n",
       "      <td>WN</td>\n",
       "      <td>WN</td>\n",
       "      <td>WN</td>\n",
       "      <td>6152</td>\n",
       "      <td>WN</td>\n",
       "      <td>N7735A</td>\n",
       "      <td>6152</td>\n",
       "      <td>13891</td>\n",
       "      <td>ONT</td>\n",
       "      <td>...</td>\n",
       "      <td>14831</td>\n",
       "      <td>SJC</td>\n",
       "      <td>San Jose, CA</td>\n",
       "      <td>1620</td>\n",
       "      <td>1740</td>\n",
       "      <td>N</td>\n",
       "      <td>80</td>\n",
       "      <td>1</td>\n",
       "      <td>333</td>\n",
       "      <td>4.306197</td>\n",
       "    </tr>\n",
       "    <tr>\n",
       "      <th>7</th>\n",
       "      <td>1577854800000</td>\n",
       "      <td>WN</td>\n",
       "      <td>WN</td>\n",
       "      <td>WN</td>\n",
       "      <td>1679</td>\n",
       "      <td>WN</td>\n",
       "      <td>N405WN</td>\n",
       "      <td>1679</td>\n",
       "      <td>13891</td>\n",
       "      <td>ONT</td>\n",
       "      <td>...</td>\n",
       "      <td>14893</td>\n",
       "      <td>SMF</td>\n",
       "      <td>Sacramento, CA</td>\n",
       "      <td>1505</td>\n",
       "      <td>1630</td>\n",
       "      <td>N</td>\n",
       "      <td>85</td>\n",
       "      <td>1</td>\n",
       "      <td>390</td>\n",
       "      <td>4.306197</td>\n",
       "    </tr>\n",
       "    <tr>\n",
       "      <th>8</th>\n",
       "      <td>1577854800000</td>\n",
       "      <td>WN</td>\n",
       "      <td>WN</td>\n",
       "      <td>WN</td>\n",
       "      <td>3479</td>\n",
       "      <td>WN</td>\n",
       "      <td>N489WN</td>\n",
       "      <td>3479</td>\n",
       "      <td>13891</td>\n",
       "      <td>ONT</td>\n",
       "      <td>...</td>\n",
       "      <td>14893</td>\n",
       "      <td>SMF</td>\n",
       "      <td>Sacramento, CA</td>\n",
       "      <td>1230</td>\n",
       "      <td>1355</td>\n",
       "      <td>N</td>\n",
       "      <td>85</td>\n",
       "      <td>1</td>\n",
       "      <td>390</td>\n",
       "      <td>3.544401</td>\n",
       "    </tr>\n",
       "    <tr>\n",
       "      <th>9</th>\n",
       "      <td>1577854800000</td>\n",
       "      <td>WN</td>\n",
       "      <td>WN</td>\n",
       "      <td>WN</td>\n",
       "      <td>4069</td>\n",
       "      <td>WN</td>\n",
       "      <td>N7708E</td>\n",
       "      <td>4069</td>\n",
       "      <td>13891</td>\n",
       "      <td>ONT</td>\n",
       "      <td>...</td>\n",
       "      <td>14893</td>\n",
       "      <td>SMF</td>\n",
       "      <td>Sacramento, CA</td>\n",
       "      <td>740</td>\n",
       "      <td>900</td>\n",
       "      <td>N</td>\n",
       "      <td>80</td>\n",
       "      <td>1</td>\n",
       "      <td>390</td>\n",
       "      <td>0.583641</td>\n",
       "    </tr>\n",
       "    <tr>\n",
       "      <th>10</th>\n",
       "      <td>1577854800000</td>\n",
       "      <td>WN</td>\n",
       "      <td>WN</td>\n",
       "      <td>WN</td>\n",
       "      <td>4905</td>\n",
       "      <td>WN</td>\n",
       "      <td>N426WN</td>\n",
       "      <td>4905</td>\n",
       "      <td>13891</td>\n",
       "      <td>ONT</td>\n",
       "      <td>...</td>\n",
       "      <td>14893</td>\n",
       "      <td>SMF</td>\n",
       "      <td>Sacramento, CA</td>\n",
       "      <td>1025</td>\n",
       "      <td>1155</td>\n",
       "      <td>N</td>\n",
       "      <td>90</td>\n",
       "      <td>1</td>\n",
       "      <td>390</td>\n",
       "      <td>1.924995</td>\n",
       "    </tr>\n",
       "    <tr>\n",
       "      <th>11</th>\n",
       "      <td>1577854800000</td>\n",
       "      <td>WN</td>\n",
       "      <td>WN</td>\n",
       "      <td>WN</td>\n",
       "      <td>4918</td>\n",
       "      <td>WN</td>\n",
       "      <td>N455WN</td>\n",
       "      <td>4918</td>\n",
       "      <td>13891</td>\n",
       "      <td>ONT</td>\n",
       "      <td>...</td>\n",
       "      <td>14893</td>\n",
       "      <td>SMF</td>\n",
       "      <td>Sacramento, CA</td>\n",
       "      <td>2040</td>\n",
       "      <td>2155</td>\n",
       "      <td>N</td>\n",
       "      <td>75</td>\n",
       "      <td>1</td>\n",
       "      <td>390</td>\n",
       "      <td>4.695590</td>\n",
       "    </tr>\n",
       "    <tr>\n",
       "      <th>12</th>\n",
       "      <td>1577854800000</td>\n",
       "      <td>WN</td>\n",
       "      <td>WN</td>\n",
       "      <td>WN</td>\n",
       "      <td>5144</td>\n",
       "      <td>WN</td>\n",
       "      <td>N8314L</td>\n",
       "      <td>5144</td>\n",
       "      <td>13891</td>\n",
       "      <td>ONT</td>\n",
       "      <td>...</td>\n",
       "      <td>14893</td>\n",
       "      <td>SMF</td>\n",
       "      <td>Sacramento, CA</td>\n",
       "      <td>2250</td>\n",
       "      <td>5</td>\n",
       "      <td>N</td>\n",
       "      <td>75</td>\n",
       "      <td>1</td>\n",
       "      <td>390</td>\n",
       "      <td>5.575963</td>\n",
       "    </tr>\n",
       "    <tr>\n",
       "      <th>13</th>\n",
       "      <td>1577854800000</td>\n",
       "      <td>WN</td>\n",
       "      <td>WN</td>\n",
       "      <td>WN</td>\n",
       "      <td>5722</td>\n",
       "      <td>WN</td>\n",
       "      <td>N7820L</td>\n",
       "      <td>5722</td>\n",
       "      <td>13891</td>\n",
       "      <td>ONT</td>\n",
       "      <td>...</td>\n",
       "      <td>14893</td>\n",
       "      <td>SMF</td>\n",
       "      <td>Sacramento, CA</td>\n",
       "      <td>1810</td>\n",
       "      <td>1930</td>\n",
       "      <td>N</td>\n",
       "      <td>80</td>\n",
       "      <td>1</td>\n",
       "      <td>390</td>\n",
       "      <td>5.023643</td>\n",
       "    </tr>\n",
       "    <tr>\n",
       "      <th>14</th>\n",
       "      <td>1577854800000</td>\n",
       "      <td>WN</td>\n",
       "      <td>WN</td>\n",
       "      <td>WN</td>\n",
       "      <td>3719</td>\n",
       "      <td>WN</td>\n",
       "      <td>N941WN</td>\n",
       "      <td>3719</td>\n",
       "      <td>13931</td>\n",
       "      <td>ORF</td>\n",
       "      <td>...</td>\n",
       "      <td>10821</td>\n",
       "      <td>BWI</td>\n",
       "      <td>Baltimore, MD</td>\n",
       "      <td>1130</td>\n",
       "      <td>1235</td>\n",
       "      <td>N</td>\n",
       "      <td>65</td>\n",
       "      <td>1</td>\n",
       "      <td>159</td>\n",
       "      <td>1.971253</td>\n",
       "    </tr>\n",
       "    <tr>\n",
       "      <th>15</th>\n",
       "      <td>1577854800000</td>\n",
       "      <td>WN</td>\n",
       "      <td>WN</td>\n",
       "      <td>WN</td>\n",
       "      <td>4863</td>\n",
       "      <td>WN</td>\n",
       "      <td>N496WN</td>\n",
       "      <td>4863</td>\n",
       "      <td>13931</td>\n",
       "      <td>ORF</td>\n",
       "      <td>...</td>\n",
       "      <td>10821</td>\n",
       "      <td>BWI</td>\n",
       "      <td>Baltimore, MD</td>\n",
       "      <td>630</td>\n",
       "      <td>730</td>\n",
       "      <td>N</td>\n",
       "      <td>60</td>\n",
       "      <td>1</td>\n",
       "      <td>159</td>\n",
       "      <td>0.764406</td>\n",
       "    </tr>\n",
       "    <tr>\n",
       "      <th>16</th>\n",
       "      <td>1577854800000</td>\n",
       "      <td>WN</td>\n",
       "      <td>WN</td>\n",
       "      <td>WN</td>\n",
       "      <td>4924</td>\n",
       "      <td>WN</td>\n",
       "      <td>N7732A</td>\n",
       "      <td>4924</td>\n",
       "      <td>13931</td>\n",
       "      <td>ORF</td>\n",
       "      <td>...</td>\n",
       "      <td>10821</td>\n",
       "      <td>BWI</td>\n",
       "      <td>Baltimore, MD</td>\n",
       "      <td>2020</td>\n",
       "      <td>2120</td>\n",
       "      <td>N</td>\n",
       "      <td>60</td>\n",
       "      <td>1</td>\n",
       "      <td>159</td>\n",
       "      <td>5.532424</td>\n",
       "    </tr>\n",
       "    <tr>\n",
       "      <th>17</th>\n",
       "      <td>1577854800000</td>\n",
       "      <td>WN</td>\n",
       "      <td>WN</td>\n",
       "      <td>WN</td>\n",
       "      <td>5321</td>\n",
       "      <td>WN</td>\n",
       "      <td>N7863A</td>\n",
       "      <td>5321</td>\n",
       "      <td>13931</td>\n",
       "      <td>ORF</td>\n",
       "      <td>...</td>\n",
       "      <td>10821</td>\n",
       "      <td>BWI</td>\n",
       "      <td>Baltimore, MD</td>\n",
       "      <td>1745</td>\n",
       "      <td>1855</td>\n",
       "      <td>N</td>\n",
       "      <td>70</td>\n",
       "      <td>1</td>\n",
       "      <td>159</td>\n",
       "      <td>6.197722</td>\n",
       "    </tr>\n",
       "    <tr>\n",
       "      <th>18</th>\n",
       "      <td>1577854800000</td>\n",
       "      <td>WN</td>\n",
       "      <td>WN</td>\n",
       "      <td>WN</td>\n",
       "      <td>4618</td>\n",
       "      <td>WN</td>\n",
       "      <td>N928WN</td>\n",
       "      <td>4618</td>\n",
       "      <td>13931</td>\n",
       "      <td>ORF</td>\n",
       "      <td>...</td>\n",
       "      <td>13204</td>\n",
       "      <td>MCO</td>\n",
       "      <td>Orlando, FL</td>\n",
       "      <td>1050</td>\n",
       "      <td>1255</td>\n",
       "      <td>N</td>\n",
       "      <td>125</td>\n",
       "      <td>1</td>\n",
       "      <td>655</td>\n",
       "      <td>2.459371</td>\n",
       "    </tr>\n",
       "    <tr>\n",
       "      <th>19</th>\n",
       "      <td>1577854800000</td>\n",
       "      <td>WN</td>\n",
       "      <td>WN</td>\n",
       "      <td>WN</td>\n",
       "      <td>5992</td>\n",
       "      <td>WN</td>\n",
       "      <td>N410WN</td>\n",
       "      <td>5992</td>\n",
       "      <td>13931</td>\n",
       "      <td>ORF</td>\n",
       "      <td>...</td>\n",
       "      <td>13232</td>\n",
       "      <td>MDW</td>\n",
       "      <td>Chicago, IL</td>\n",
       "      <td>1650</td>\n",
       "      <td>1810</td>\n",
       "      <td>N</td>\n",
       "      <td>140</td>\n",
       "      <td>1</td>\n",
       "      <td>704</td>\n",
       "      <td>5.439260</td>\n",
       "    </tr>\n",
       "  </tbody>\n",
       "</table>\n",
       "<p>20 rows × 21 columns</p>\n",
       "</div>"
      ],
      "text/plain": [
       "          fl_date mkt_unique_carrier branded_code_share mkt_carrier  \\\n",
       "0   1577854800000                 WN                 WN          WN   \n",
       "1   1577854800000                 WN                 WN          WN   \n",
       "2   1577854800000                 WN                 WN          WN   \n",
       "3   1577854800000                 WN                 WN          WN   \n",
       "4   1577854800000                 WN                 WN          WN   \n",
       "5   1577854800000                 WN                 WN          WN   \n",
       "6   1577854800000                 WN                 WN          WN   \n",
       "7   1577854800000                 WN                 WN          WN   \n",
       "8   1577854800000                 WN                 WN          WN   \n",
       "9   1577854800000                 WN                 WN          WN   \n",
       "10  1577854800000                 WN                 WN          WN   \n",
       "11  1577854800000                 WN                 WN          WN   \n",
       "12  1577854800000                 WN                 WN          WN   \n",
       "13  1577854800000                 WN                 WN          WN   \n",
       "14  1577854800000                 WN                 WN          WN   \n",
       "15  1577854800000                 WN                 WN          WN   \n",
       "16  1577854800000                 WN                 WN          WN   \n",
       "17  1577854800000                 WN                 WN          WN   \n",
       "18  1577854800000                 WN                 WN          WN   \n",
       "19  1577854800000                 WN                 WN          WN   \n",
       "\n",
       "    mkt_carrier_fl_num op_unique_carrier tail_num  op_carrier_fl_num  \\\n",
       "0                 5888                WN   N951WN               5888   \n",
       "1                 6276                WN   N467WN               6276   \n",
       "2                 4598                WN   N7885A               4598   \n",
       "3                 4761                WN   N551WN               4761   \n",
       "4                 5162                WN   N968WN               5162   \n",
       "5                 5684                WN   N7856A               5684   \n",
       "6                 6152                WN   N7735A               6152   \n",
       "7                 1679                WN   N405WN               1679   \n",
       "8                 3479                WN   N489WN               3479   \n",
       "9                 4069                WN   N7708E               4069   \n",
       "10                4905                WN   N426WN               4905   \n",
       "11                4918                WN   N455WN               4918   \n",
       "12                5144                WN   N8314L               5144   \n",
       "13                5722                WN   N7820L               5722   \n",
       "14                3719                WN   N941WN               3719   \n",
       "15                4863                WN   N496WN               4863   \n",
       "16                4924                WN   N7732A               4924   \n",
       "17                5321                WN   N7863A               5321   \n",
       "18                4618                WN   N928WN               4618   \n",
       "19                5992                WN   N410WN               5992   \n",
       "\n",
       "    origin_airport_id origin  ... dest_airport_id  dest     dest_city_name  \\\n",
       "0               13891    ONT  ...           14771   SFO  San Francisco, CA   \n",
       "1               13891    ONT  ...           14771   SFO  San Francisco, CA   \n",
       "2               13891    ONT  ...           14831   SJC       San Jose, CA   \n",
       "3               13891    ONT  ...           14831   SJC       San Jose, CA   \n",
       "4               13891    ONT  ...           14831   SJC       San Jose, CA   \n",
       "5               13891    ONT  ...           14831   SJC       San Jose, CA   \n",
       "6               13891    ONT  ...           14831   SJC       San Jose, CA   \n",
       "7               13891    ONT  ...           14893   SMF     Sacramento, CA   \n",
       "8               13891    ONT  ...           14893   SMF     Sacramento, CA   \n",
       "9               13891    ONT  ...           14893   SMF     Sacramento, CA   \n",
       "10              13891    ONT  ...           14893   SMF     Sacramento, CA   \n",
       "11              13891    ONT  ...           14893   SMF     Sacramento, CA   \n",
       "12              13891    ONT  ...           14893   SMF     Sacramento, CA   \n",
       "13              13891    ONT  ...           14893   SMF     Sacramento, CA   \n",
       "14              13931    ORF  ...           10821   BWI      Baltimore, MD   \n",
       "15              13931    ORF  ...           10821   BWI      Baltimore, MD   \n",
       "16              13931    ORF  ...           10821   BWI      Baltimore, MD   \n",
       "17              13931    ORF  ...           10821   BWI      Baltimore, MD   \n",
       "18              13931    ORF  ...           13204   MCO        Orlando, FL   \n",
       "19              13931    ORF  ...           13232   MDW        Chicago, IL   \n",
       "\n",
       "   crs_dep_time  crs_arr_time  dup crs_elapsed_time  flights  distance  \\\n",
       "0          1810          1945    N               95        1       363   \n",
       "1          1150          1320    N               90        1       363   \n",
       "2          2020          2130    N               70        1       333   \n",
       "3          1340          1455    N               75        1       333   \n",
       "4           915          1035    N               80        1       333   \n",
       "5           600           715    N               75        1       333   \n",
       "6          1620          1740    N               80        1       333   \n",
       "7          1505          1630    N               85        1       390   \n",
       "8          1230          1355    N               85        1       390   \n",
       "9           740           900    N               80        1       390   \n",
       "10         1025          1155    N               90        1       390   \n",
       "11         2040          2155    N               75        1       390   \n",
       "12         2250             5    N               75        1       390   \n",
       "13         1810          1930    N               80        1       390   \n",
       "14         1130          1235    N               65        1       159   \n",
       "15          630           730    N               60        1       159   \n",
       "16         2020          2120    N               60        1       159   \n",
       "17         1745          1855    N               70        1       159   \n",
       "18         1050          1255    N              125        1       655   \n",
       "19         1650          1810    N              140        1       704   \n",
       "\n",
       "    predicted_delay  \n",
       "0          5.023643  \n",
       "1          3.320382  \n",
       "2          4.695590  \n",
       "3          3.181036  \n",
       "4          1.068086  \n",
       "5          0.580550  \n",
       "6          4.306197  \n",
       "7          4.306197  \n",
       "8          3.544401  \n",
       "9          0.583641  \n",
       "10         1.924995  \n",
       "11         4.695590  \n",
       "12         5.575963  \n",
       "13         5.023643  \n",
       "14         1.971253  \n",
       "15         0.764406  \n",
       "16         5.532424  \n",
       "17         6.197722  \n",
       "18         2.459371  \n",
       "19         5.439260  \n",
       "\n",
       "[20 rows x 21 columns]"
      ]
     },
     "execution_count": 66,
     "metadata": {},
     "output_type": "execute_result"
    }
   ],
   "source": [
    "df_fl_test.head(20)"
   ]
  },
  {
   "cell_type": "code",
   "execution_count": 68,
   "metadata": {},
   "outputs": [],
   "source": [
    "#Convert fl_date from unix to dattime object\n",
    "from datetime import datetime\n",
    "df_fl_test = df_fl_test.rename(columns={\"fl_date\":\"unix_date\"})\n",
    "for i in df_fl_test['unix_date']:\n",
    "    i = int(float(i))/1000\n",
    "    df_fl_test['fl_date'] = datetime.utcfromtimestamp(i).strftime('%Y-%m-%d')"
   ]
  },
  {
   "cell_type": "code",
   "execution_count": 69,
   "metadata": {},
   "outputs": [],
   "source": [
    "final_df = df_fl_test[['fl_date','mkt_carrier','mkt_carrier_fl_num','origin','dest','predicted_delay']]\n",
    "final_df.to_csv('submission.csv',index=False)"
   ]
  },
  {
   "cell_type": "markdown",
   "metadata": {},
   "source": [
    "======================================================================\n",
    "## Stretch Tasks"
   ]
  },
  {
   "cell_type": "markdown",
   "metadata": {},
   "source": [
    "### Multiclass Classification"
   ]
  },
  {
   "cell_type": "markdown",
   "metadata": {},
   "source": [
    "The target variables are **CARRIER_DELAY, WEATHER_DELAY, NAS_DELAY, SECURITY_DELAY, LATE_AIRCRAFT_DELAY**. We need to do additional transformations because these variables are not binary but continuos. For each flight that was delayed, we need to have one of these variables as 1 and others 0.\n",
    "\n",
    "It can happen that we have two types of delays with more than 0 minutes. In this case, take the bigger one as 1 and others as 0."
   ]
  },
  {
   "cell_type": "code",
   "execution_count": null,
   "metadata": {},
   "outputs": [],
   "source": []
  },
  {
   "cell_type": "code",
   "execution_count": null,
   "metadata": {},
   "outputs": [],
   "source": []
  },
  {
   "cell_type": "code",
   "execution_count": null,
   "metadata": {},
   "outputs": [],
   "source": []
  },
  {
   "cell_type": "markdown",
   "metadata": {},
   "source": [
    "### Binary Classification"
   ]
  },
  {
   "cell_type": "markdown",
   "metadata": {},
   "source": [
    "The target variable is **CANCELLED**. The main problem here is going to be huge class imbalance. We have only very little cancelled flights with comparison to all flights. It is important to do the right sampling before training and to choose correct evaluation metrics."
   ]
  },
  {
   "cell_type": "code",
   "execution_count": null,
   "metadata": {},
   "outputs": [],
   "source": []
  },
  {
   "cell_type": "code",
   "execution_count": null,
   "metadata": {},
   "outputs": [],
   "source": []
  },
  {
   "cell_type": "code",
   "execution_count": null,
   "metadata": {},
   "outputs": [],
   "source": []
  }
 ],
 "metadata": {
  "kernelspec": {
   "display_name": "Python 3 (ipykernel)",
   "language": "python",
   "name": "python3"
  },
  "language_info": {
   "codemirror_mode": {
    "name": "ipython",
    "version": 3
   },
   "file_extension": ".py",
   "mimetype": "text/x-python",
   "name": "python",
   "nbconvert_exporter": "python",
   "pygments_lexer": "ipython3",
   "version": "3.8.12"
  }
 },
 "nbformat": 4,
 "nbformat_minor": 4
}
